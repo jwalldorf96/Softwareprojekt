{
  "cells": [
    {
      "cell_type": "markdown",
      "metadata": {
        "id": "y4iin6N7mXYY"
      },
      "source": [
        "[![Open In Colab](https://colab.research.google.com/assets/colab-badge.svg)](https://colab.research.google.com/github/jwalldorf96/Softwareprojekt/blob/main/Tipps_und_Tricks_fuer_ChatGPT.ipynb)"
      ]
    },
    {
      "cell_type": "markdown",
      "metadata": {
        "id": "3wrk_gLnmXYg"
      },
      "source": [
        "# Einführung in die Interaktion mit KI-Modellen wie ChatGPT\n",
        "\n",
        "Künstliche Intelligenz (KI) hat das Potenzial, viele Aspekte unseres Lebens zu revolutionieren. Von der Automatisierung routinemäßiger Aufgaben bis hin zur Bereitstellung personalisierter Empfehlungen, KI-Modelle wie ChatGPT können uns dabei unterstützen, effizienter und informierter zu arbeiten.\n",
        "\n",
        "Allerdings erfordert die effektive Nutzung dieser Modelle ein gewisses Maß an Verständnis und Geschick. Dieses Notebook bietet praktische Tipps und Tricks, um die Interaktion mit KI-Modellen zu optimieren. Es wird erklärt, wie man klare und präzise Anweisungen gibt, wie man Codebeispiele zur Unterstützung verwendet, wie man Anweisungen in kleinere, handhabbare Schritte aufteilt und wie man Feedback gibt, um zukünftige Vorschläge zu verbessern.\n",
        "\n",
        "Es ist wichtig zu beachten, dass die Antworten der KI immer kritisch betrachtet werden sollten, da keine vollständige Genauigkeit gegeben ist. Mit den richtigen Techniken und einem kritischen Auge können wir jedoch das Beste aus diesen leistungsstarken Werkzeugen herausholen."
      ]
    },
    {
      "cell_type": "markdown",
      "metadata": {
        "id": "kcVU7aOAmXYi"
      },
      "source": [
        "# Tipps für gute Prompts\n",
        "\n",
        "1. **Sei präzise**: Je klarer und spezifischer deine Anweisungen sind, desto besser kann die KI deine Anforderungen erfüllen.\n",
        "2. **Verwende Beispiele**: Wenn möglich, gib Beispiele für das gewünschte Ergebnis. Dies kann der KI helfen, deine Anforderungen besser zu verstehen.\n",
        "3. **Teile komplexe Anfragen auf**: Wenn du eine komplexe Anfrage hast, teile sie in kleinere, handhabbare Teile auf.\n",
        "4. **Sei geduldig**: KI ist ein Werkzeug, das immer noch lernt. Es kann einige Versuche erfordern, um die gewünschten Ergebnisse zu erzielen.\n",
        "5. **Überprüfe die Ergebnisse**: KI ist nicht unfehlbar. Überprüfe immer die Ergebnisse und hinterfrage sie kritisch.\n",
        "6. **Nutze Feedback**: Wenn die KI eine Möglichkeit bietet, Feedback zu geben, nutze diese. Dies hilft der KI, zu lernen und sich zu verbessern.\n",
        "7. **Verstehe die Grenzen**: KI hat seine Stärken und Schwächen. Verstehe, was die KI gut kann und wo sie Schwierigkeiten hat.\n",
        "8. **Sei ethisch**: Verwende KI verantwortungsvoll und respektiere die Privatsphäre und Rechte anderer.\n",
        "9. **Bleib auf dem Laufenden**: KI entwickelt sich ständig weiter. Bleib auf dem Laufenden über neue Funktionen und Verbesserungen.\n",
        "10. **Experimentiere**: Zögere nicht, mit verschiedenen Anweisungen und Ansätzen zu experimentieren, um zu sehen, was am besten funktioniert.\n",
        "11. **Quellenangaben**: Als Beweis für die Aussage solltest du nach Quellen Fragen und diese gegebenenfalls auf Korrektheit prüfen\n",
        "12. **Formatierung**: Gib vor, wie die Ausgabe formatiert werden soll. Zum Beispiel als Fließtext, als Stichpunkte oder in tabellarischer Form\n",
        "13. **Sprache**: Je nach Thema ist es relevant welche Sprache verwendet wird. Die Qualität der Antworten hängt immer auch stark von den Trainingsdaten ab, sind diese in Originalsprache, können keine Übersetzungsfehler auftreten. Bei wissenschaftlichen Themen und bei Programmieraufgaben ist es daher oft sinnvoll englisch zu verwenden. ChatGPT selbst hat keine Präferenz, empfiehlt aber eine der drei am häufigsten verwendeten Sprachen, zu denen englisch, spanisch und chinesisch zählen.\n",
        "13. **Ausdruck**: Die Trainingsdaten von ChatGPT basierend zum Großteil auf natürlicher Sprache, weshalb mit natürlichem und höflichem Wortlaut in einer Frage tendenziell ausführlichere und detailreichere Antworten zu erwarten sind.\n",
        "\n",
        "**!Wichtig! Die Antworten der KI müssen immer kritisch betrachtet werden, da keine vollständige Genauigkeit gegeben ist.**\n",
        "\n",
        "### Integration von ChatGPT\n",
        "\n",
        "ChatGPT kann nicht nur über die Webversion von OpenAI genutzt werden, sondern es gibt auch viele Integrationen, die die Verwendung in verschiedenen Umgebungen ermöglichen. Insbesondere für die Programmierunterstützung und die Arbeit mit Jupyter Notebooks gibt es einige Integrationen, die hilfreich sein können.\n",
        "\n",
        "Einige Beispiele für Integrationen zur Programmierunterstützung sind:\n",
        "\n",
        "- Visual Studio Code: Es gibt Erweiterungen, die die direkte Interaktion mit ChatGPT in der Code-Editor-Umgebung ermöglichen.\n",
        "- GitHub Copilot: Eine Integration, die ChatGPT verwendet, um Codevorschläge und -ergänzungen direkt in der Entwicklungsumgebung von GitHub bereitzustellen.\n",
        "- PyCharm: Eine IDE für Python, die ebenfalls eine Integration mit ChatGPT bietet.\n",
        "\n",
        "Für die Arbeit mit Jupyter Notebooks gibt es auch spezifische Integrationen, die die Interaktion mit ChatGPT erleichtern. Einige Beispiele sind:\n",
        "\n",
        "- JupyterLab: Eine erweiterte Version von Jupyter Notebook, die zusätzliche Funktionen und Integrationen bietet, darunter auch die Integration von ChatGPT.\n",
        "- Kaggle Notebooks: Eine Plattform für Data Science und maschinelles Lernen, die ebenfalls eine Integration mit ChatGPT ermöglicht.\n",
        "- Visual Studio Code: Auch hier können Jupyter Notebooks z.b. mit Github Copilot verarbeitet werden\n",
        "\n",
        "Es ist auch wichtig zu beachten, dass es zwei Arten von Prompts gibt: statische Prompts und dynamische Prompts. Statische Prompts sind vordefinierte Anweisungen, die nicht verändert werden können. Dynamische Prompts ermöglichen es, die Anweisungen während der Interaktion mit ChatGPT anzupassen, was eine größere Flexibilität bietet.\n",
        "\n",
        "Die Integrationen und die Verwendung von dynamischen Prompts ermöglichen es den Entwicklern, die Interaktion mit ChatGPT an ihre spezifischen Anforderungen Stück für Stück anzpassen und kontinuierlich zu verbessern.\n"
      ]
    },
    {
      "cell_type": "markdown",
      "metadata": {
        "id": "uE5InOOwmXYl"
      },
      "source": [
        "# Gute und schlechte prompt Beispiele\n",
        "Im folgenden Abschnitt werden gute und schlechte Beispiele für Prompts zur Kommunikation mit ChatGPT gegeben. Die Promptbeispiele erzeugen C++ Code, der direkt im Jupyter Notebook zum Testen ausgeführt werden kann. Als Vorausssetzung ist eine Initialisierung in Google Colab notwendig, um Abhängigkeiten für die Ausführung von C++ Code in der Systemumgebung zu installieren. Dazu muss zuvor der folgende Abschnitt einmal ausgeführt werden."
      ]
    },
    {
      "cell_type": "code",
      "execution_count": null,
      "metadata": {
        "id": "hHS4qOuamXYn"
      },
      "outputs": [],
      "source": [
        "!echo \"*** 1.)  Test if NVIDIA(R)-cuda-compiler-driver is availabe...\"\n",
        "!nvcc --version\n",
        "!echo \"*** 2.) Install extension to run nvcc ...\"\n",
        "!pip install git+https://github.com/andreinechaev/nvcc4jupyter.git\n",
        "!echo \"*** 3.) Load extension using a 'line magic %' command....\"\n",
        "%load_ext nvcc_plugin"
      ]
    },
    {
      "cell_type": "markdown",
      "source": [
        "# Beispiel 1 - Summe zweier Zahlen\n",
        "Aufgabe: Berechne die Summer zweier Float Zahlen."
      ],
      "metadata": {
        "id": "yd44pck5oczm"
      }
    },
    {
      "cell_type": "markdown",
      "metadata": {
        "id": "hNfGeWAQmXYs"
      },
      "source": [
        "# Beispiel 1 - schlechter Prompt\n",
        "**ChatGPT Prompt:**\n",
        "Berechne die Summe zweier gegebener Zahlen in C++\n",
        "\n",
        "-> sehr simpel und einfach\n",
        "\n",
        "-> ABER:\n",
        "\n",
        "- keine Eingabe durch Benutzer möglich\n",
        "- Alles in der Main Funktion, nicht wiederverwendbar\n",
        "- keine Kommentare mit Erklärungen (wegen geringer Komplexität nicht zwingend notwendig)"
      ]
    },
    {
      "cell_type": "code",
      "execution_count": null,
      "metadata": {
        "id": "x9gbpwFXmXYt"
      },
      "outputs": [],
      "source": [
        "%%cu\n",
        "//%%cu cell magic is required to use c++\n",
        "#include <iostream>\n",
        "\n",
        "int main() {\n",
        "    int num1 = 10;\n",
        "    int num2 = 20;\n",
        "    int sum = num1 + num2;\n",
        "\n",
        "    std::cout << \"Die Summe ist: \" << sum << std::endl;\n",
        "\n",
        "    return 0;\n",
        "}\n"
      ]
    },
    {
      "cell_type": "markdown",
      "metadata": {
        "id": "fbW26fhPmXYq"
      },
      "source": [
        "# Beispiel 1 - guter Prompt\n",
        "**ChatGPT Prompt:**\n",
        "Schreibe ein Programm in C++, dass zwei Zahlen als Eingabe vom Benutzer erhält und anschließend die Summe berechnet. Zu beginn soll dem Benutzer eine kurze Einleitung gegeben werden, was das Programm macht. Die Ausgaben sollen mit kurzen Textabschnitten erläutert werden. Lagere den Abschnitt in eine Funktion aus und rufe diese aus der Main Funktion auf. Zu jeder Zeile soll ein kurzer prägnanter Kommentar gegeben sein und die Variablen sollen sprechende Namen haben.\n"
      ]
    },
    {
      "cell_type": "code",
      "execution_count": null,
      "metadata": {
        "id": "pdvqRnJcmXYr"
      },
      "outputs": [],
      "source": [
        "%%cu\n",
        "//%%cu cell magic is required to use c++\n",
        "#include <iostream>\n",
        "\n",
        "// Funktion zur Berechnung der Summe\n",
        "int berechneSumme(int ersteZahl, int zweiteZahl) {\n",
        "    // Summe berechnen\n",
        "    int summe = ersteZahl + zweiteZahl;\n",
        "\n",
        "    // Rückgabe der Summe\n",
        "    return summe;\n",
        "}\n",
        "\n",
        "int main() {\n",
        "    // Benutzereingabe\n",
        "    std::cout << \"Bitte gib die erste Zahl ein: \";\n",
        "    int eingabeZahl1;\n",
        "    std::cin >> eingabeZahl1;\n",
        "\n",
        "    std::cout << \"Bitte gib die zweite Zahl ein: \";\n",
        "    int eingabeZahl2;\n",
        "    std::cin >> eingabeZahl2;\n",
        "\n",
        "    // Aufruf der Funktion zur Berechnung der Summe\n",
        "    int ergebnis = berechneSumme(eingabeZahl1, eingabeZahl2);\n",
        "\n",
        "    // Ausgabe der Ergebnisse\n",
        "    std::cout << \"Die Summe von \" << eingabeZahl1 << \" und \" << eingabeZahl2 << \" ist: \" << ergebnis << std::endl;\n",
        "\n",
        "    return 0;\n",
        "}"
      ]
    },
    {
      "cell_type": "markdown",
      "source": [
        "# Beispiel 2 - Min/Max Funktion\n",
        "Aufgabe: Berechne das Minimum und Maximum eines Arrays"
      ],
      "metadata": {
        "id": "iZHBwZwzoj4m"
      }
    },
    {
      "cell_type": "markdown",
      "metadata": {
        "id": "mZ2ynm-omXYv"
      },
      "source": [
        "# Beispiel 2 - schlechter Prompt\n",
        "**ChatGPT Prompt:**\n",
        "kurze Funktion ohne Kommentare um Min und Max in einem Array zu finden. Sprache C++\n",
        "\n",
        "-> Ausgabe ergibt schon ein gutes Ergebnis\n",
        "\n",
        "-> ABER:\n",
        "\n",
        "- keine Fehlerbehandlung bei leeren Parametern\n",
        "- Size des Arrays ist statisch festgelgt\n",
        "- Array könnte als Beispiel auch aus Zufallszahlen bestehen\n",
        "- Benutzer kann nicht überprüfen, ob das Min und Max korrekt gefunden wurden, da das Array nicht bekannt ist"
      ]
    },
    {
      "cell_type": "code",
      "source": [
        "%%cu\n",
        "//%%cu cell magic is required to use c++\n",
        "#include <iostream>\n",
        "\n",
        "void findMinMax(int arr[], int size, int &min, int &max) {\n",
        "    // Annahme: Das Array hat mindestens ein Element\n",
        "    min = max = arr[0];\n",
        "\n",
        "    for (int i = 1; i < size; ++i) {\n",
        "        if (arr[i] < min) {\n",
        "            min = arr[i];\n",
        "        } else if (arr[i] > max) {\n",
        "            max = arr[i];\n",
        "        }\n",
        "    }\n",
        "}\n",
        "\n",
        "int main() {\n",
        "    int arr[] = {3, 1, 4, 1, 5, 9, 2, 6, 5, 3, 5};\n",
        "    int size = sizeof(arr) / sizeof(arr[0]);\n",
        "    int min, max;\n",
        "\n",
        "    findMinMax(arr, size, min, max);\n",
        "\n",
        "    std::cout << \"Minimum: \" << min << std::endl;\n",
        "    std::cout << \"Maximum: \" << max << std::endl;\n",
        "\n",
        "    return 0;\n",
        "}"
      ],
      "metadata": {
        "id": "nhP-o3myrT9j"
      },
      "execution_count": null,
      "outputs": []
    },
    {
      "cell_type": "markdown",
      "metadata": {
        "id": "ig5ktl_1mXYu"
      },
      "source": [
        "# Beispiel 2 - guter Prompt\n",
        "**ChatGPT Prompt:**\n",
        "Erstelle in C++ eine kurze Funktion ohne Kommentare um Min und Max eines Arrays zu berechnen. Das Array soll dynamisch erzeugt werden und aus zweistelligen Zufallszahlen bestehen insgesamt 10-15 Zeichen lang sein. Gebe am Anfang eine kurze Textausgabe mit dem Inhalt, was das Programm macht und als Ausgabe das Array sowie am Ende das Min und Max des Arrays. Außerdem füge eine Fehlerbehandlung für nicht belegte Variablen ein."
      ]
    },
    {
      "cell_type": "code",
      "execution_count": null,
      "metadata": {
        "id": "_eOvTYONmXYv"
      },
      "outputs": [],
      "source": [
        "%%cu\n",
        "//%%cu cell magic is required to use c++\n",
        "#include <iostream>\n",
        "#include <random>\n",
        "\n",
        "void generateRandomArray(int* &arr, int &size) {\n",
        "    // Dynamische Array-Größe zwischen 10 und 15\n",
        "    size = 10 + rand() % 6;\n",
        "\n",
        "    // Array dynamisch erstellen\n",
        "    arr = new int[size];\n",
        "\n",
        "    // Zufallszahlengenerator initialisieren\n",
        "    std::random_device rd;\n",
        "    std::mt19937 gen(rd());\n",
        "    std::uniform_int_distribution<int> dist(10, 99); // Zweistellige Zahlen\n",
        "\n",
        "    // Array mit Zufallszahlen füllen\n",
        "    for (int i = 0; i < size; ++i) {\n",
        "        arr[i] = dist(gen);\n",
        "    }\n",
        "}\n",
        "\n",
        "void findMinMax(const int arr[], int size, int &min, int &max) {\n",
        "    if (size <= 0) {\n",
        "        // Fehlerbehandlung für leeres Array\n",
        "        std::cerr << \"Fehler: Das Array ist leer.\" << std::endl;\n",
        "        return;\n",
        "    }\n",
        "\n",
        "    min = max = arr[0];\n",
        "\n",
        "    for (int i = 1; i < size; ++i) {\n",
        "        if (arr[i] < min) {\n",
        "            min = arr[i];\n",
        "        } else if (arr[i] > max) {\n",
        "            max = arr[i];\n",
        "        }\n",
        "    }\n",
        "}\n",
        "\n",
        "int main() {\n",
        "    std::cout << \"Dieses Programm generiert ein Array mit zweistelligen Zufallszahlen, findet das Minimum und Maximum und gibt alles aus.\" << std::endl;\n",
        "\n",
        "    int* myArray = nullptr;\n",
        "    int arraySize = 0;\n",
        "\n",
        "    // Array generieren\n",
        "    generateRandomArray(myArray, arraySize);\n",
        "\n",
        "    // Ausgabe des Arrays\n",
        "    std::cout << \"Array: \";\n",
        "    for (int i = 0; i < arraySize; ++i) {\n",
        "        std::cout << myArray[i] << \" \";\n",
        "    }\n",
        "    std::cout << std::endl;\n",
        "\n",
        "    // Minimum und Maximum finden\n",
        "    int minValue, maxValue;\n",
        "    findMinMax(myArray, arraySize, minValue, maxValue);\n",
        "\n",
        "    // Ausgabe von Min und Max\n",
        "    std::cout << \"Minimum: \" << minValue << std::endl;\n",
        "    std::cout << \"Maximum: \" << maxValue << std::endl;\n",
        "\n",
        "    // Speicher freigeben\n",
        "    delete[] myArray;\n",
        "\n",
        "    return 0;\n",
        "}"
      ]
    },
    {
      "cell_type": "markdown",
      "source": [
        "# Beispiel 3 - Swap-Funktion\n",
        "Aufgabe: Tausche den Inhalt zweier Zahlen aus\n",
        "\n"
      ],
      "metadata": {
        "id": "TrjR3u6Apvfm"
      }
    },
    {
      "cell_type": "markdown",
      "metadata": {
        "id": "FrdzIuV8mXYw"
      },
      "source": [
        "# Beispiel 3- schlechter Prompt\n",
        "**ChatGPT Prompt:**\n",
        "Schreibe eine Funktion in C++, um den Inhalt zweier Zahlen auszutauschen.\n",
        "\n",
        "-> ABER:\n",
        "\n",
        "- ungünstige Angabe des Parameters, so werden andere Datentypen außer Integer ausgeschlossen\n",
        "- wieder keine Einleitung für den Benutzer, was das Programm macht"
      ]
    },
    {
      "cell_type": "code",
      "execution_count": null,
      "metadata": {
        "id": "_ik3bWSQmXYw"
      },
      "outputs": [],
      "source": [
        "%%cu\n",
        "//%%cu cell magic is required to use c++\n",
        "#include <iostream>\n",
        "\n",
        "void swapValues(int &a, int &b) {\n",
        "    int temp = a;\n",
        "    a = b;\n",
        "    b = temp;\n",
        "}\n",
        "\n",
        "int main() {\n",
        "    int num1 = 5;\n",
        "    int num2 = 10;\n",
        "\n",
        "    std::cout << \"Vor dem Austausch: \" << \"Num1 = \" << num1 << \", Num2 = \" << num2 << std::endl;\n",
        "\n",
        "    // Funktion aufrufen, um die Werte auszutauschen\n",
        "    swapValues(num1, num2);\n",
        "\n",
        "    std::cout << \"Nach dem Austausch: \" << \"Num1 = \" << num1 << \", Num2 = \" << num2 << std::endl;\n",
        "\n",
        "    return 0;\n",
        "}"
      ]
    },
    {
      "cell_type": "markdown",
      "metadata": {
        "id": "p1ejvJf-mXYv"
      },
      "source": [
        "# Beispiel 3 - guter Prompt\n",
        "**ChatGPT Prompt:**\n",
        "Schreibe eine Funktion in C++, um den Inhalt zweier Variablen auszutauschen. Am Anfang soll dem Benutzer eine kurze Info gegeben werden, was das Programm macht. Der Tausch soll modular in eine Funktion ausgelagert werden und die Parameterübergabe soll mittels C++ Referenz realisiert werden. Optimiere das Programm bitte auf eine schnelle Laufzeit und nutze gegebenenfalls eine inline Funktion."
      ]
    },
    {
      "cell_type": "code",
      "execution_count": null,
      "metadata": {
        "id": "OgXlCiEwmXYv"
      },
      "outputs": [],
      "source": [
        "%%cu\n",
        "//%%cu cell magic is required to use c++\n",
        "#include <iostream>\n",
        "\n",
        "// Inline-Funktion zum Tausch von zwei Variablen\n",
        "template <typename T>\n",
        "inline void tauscheVariablen(T &variable1, T &variable2) {\n",
        "    T temp = variable1;\n",
        "    variable1 = variable2;\n",
        "    variable2 = temp;\n",
        "}\n",
        "\n",
        "int main() {\n",
        "    // Benutzerinfo\n",
        "    std::cout << \"Dieses Programm tauscht den Inhalt zweier Variablen.\\n\\n\";\n",
        "\n",
        "    // Beispielvariablen\n",
        "    int a = 5;\n",
        "    int b = 10;\n",
        "\n",
        "    // Ausgangswerte ausgeben\n",
        "    std::cout << \"Vor dem Tausch:\\n\";\n",
        "    std::cout << \"Variable a: \" << a << \"\\n\";\n",
        "    std::cout << \"Variable b: \" << b << \"\\n\\n\";\n",
        "\n",
        "    // Tausch aufrufen\n",
        "    tauscheVariablen(a, b);\n",
        "\n",
        "    // Nach dem Tausch ausgeben\n",
        "    std::cout << \"Nach dem Tausch:\\n\";\n",
        "    std::cout << \"Variable a: \" << a << \"\\n\";\n",
        "    std::cout << \"Variable b: \" << b << \"\\n\";\n",
        "\n",
        "    return 0;\n",
        "}"
      ]
    },
    {
      "cell_type": "markdown",
      "source": [
        "# Beispiel 4 - Klassen\n",
        "**ChatGPT Prompt:**\n",
        "Erstelle eine Klasse Shape, die den Flächeninhalt eines Kreises berechnet"
      ],
      "metadata": {
        "id": "ivNpFDj6qTaj"
      }
    },
    {
      "cell_type": "markdown",
      "metadata": {
        "id": "AlXpVAIzmXYx"
      },
      "source": [
        "# Beispiel 4 - schlechter Prompt\n",
        "**ChatGPT Prompt:**\n",
        "Erstelle in C++ eine Klasse Shape, die den Flächeninhalt eines Kreises berechnet.\n",
        "\n",
        "-> Problem:\n",
        "\n",
        "- Programmierfehler, es gibt keine get und set Funktion für den Radius"
      ]
    },
    {
      "cell_type": "code",
      "execution_count": 18,
      "metadata": {
        "colab": {
          "base_uri": "https://localhost:8080/"
        },
        "id": "FrBydIuymXYx",
        "outputId": "5f4555e0-6ac4-4b3d-97c5-2515e4d45e8b"
      },
      "outputs": [
        {
          "output_type": "stream",
          "name": "stdout",
          "text": [
            "Der Flächeninhalt des Kreises mit Radius 78.5398 beträgt: 78.5398\n",
            "\n"
          ]
        }
      ],
      "source": [
        "%%cu\n",
        "//%%cu cell magic is required to use c++\n",
        "#include <iostream>\n",
        "#include <cmath>\n",
        "\n",
        "// Definition der Shape-Klasse\n",
        "class Shape {\n",
        "private:\n",
        "    double radius;\n",
        "\n",
        "public:\n",
        "    // Konstruktor, um den Radius zu setzen\n",
        "    Shape(double r) : radius(r) {}\n",
        "\n",
        "    // Funktion zur Berechnung des Flächeninhalts eines Kreises\n",
        "    double berechneFlaecheninhalt() {\n",
        "        return M_PI * pow(radius, 2);\n",
        "    }\n",
        "};\n",
        "\n",
        "int main() {\n",
        "    // Beispiel: Erzeugung eines Shape-Objekts mit einem Radius von 5\n",
        "    Shape kreis(5.0);\n",
        "\n",
        "    // Berechnung und Ausgabe des Flächeninhalts\n",
        "    std::cout << \"Der Flächeninhalt des Kreises mit Radius \"\n",
        "              << kreis.berechneFlaecheninhalt() << \" beträgt: \"\n",
        "              << kreis.berechneFlaecheninhalt() << std::endl;\n",
        "\n",
        "    return 0;\n",
        "}"
      ]
    },
    {
      "cell_type": "markdown",
      "metadata": {
        "id": "US2ZJK9VmXYw"
      },
      "source": [
        "# Beispiel 4 - guter Prompt\n",
        "**ChatGPT Prompt:**\n",
        "Erstelle in C++ eine Klasse Shape, die den Flächeninhalt eines Kreises berechnet. Für jeden Variable soll es eine public get und set Funktion geben.\n"
      ]
    },
    {
      "cell_type": "code",
      "execution_count": 19,
      "metadata": {
        "colab": {
          "base_uri": "https://localhost:8080/"
        },
        "id": "mdiHRIn6mXYx",
        "outputId": "09456787-ada1-4fd6-caec-3ff202d022fe"
      },
      "outputs": [
        {
          "output_type": "stream",
          "name": "stdout",
          "text": [
            "Der aktuelle Radius des Kreises beträgt: 5\n",
            "Der aktualisierte Radius des Kreises beträgt: 7.5\n",
            "Der Flächeninhalt des Kreises beträgt: 176.715\n",
            "\n"
          ]
        }
      ],
      "source": [
        "%%cu\n",
        "//%%cu cell magic is required to use c++\n",
        "#include <iostream>\n",
        "#include <cmath>\n",
        "\n",
        "class Shape {\n",
        "private:\n",
        "    double radius;\n",
        "\n",
        "public:\n",
        "    // Konstruktor\n",
        "    Shape(double r) : radius(r) {}\n",
        "\n",
        "    // Getter für den Radius\n",
        "    double getRadius() const {\n",
        "        return radius;\n",
        "    }\n",
        "\n",
        "    // Setter für den Radius\n",
        "    void setRadius(double r) {\n",
        "        radius = r;\n",
        "    }\n",
        "\n",
        "    // Funktion zur Berechnung des Flächeninhalts eines Kreises\n",
        "    double berechneFlaecheninhalt() const {\n",
        "        return M_PI * pow(radius, 2);\n",
        "    }\n",
        "};\n",
        "\n",
        "int main() {\n",
        "    // Beispiel: Erzeugung eines Shape-Objekts mit einem Radius von 5\n",
        "    Shape kreis(5.0);\n",
        "\n",
        "    // Getter verwenden, um den aktuellen Radius auszugeben\n",
        "    std::cout << \"Der aktuelle Radius des Kreises beträgt: \" << kreis.getRadius() << std::endl;\n",
        "\n",
        "    // Setter verwenden, um den Radius zu ändern\n",
        "    kreis.setRadius(7.5);\n",
        "\n",
        "    // Getter verwenden, um den aktualisierten Radius auszugeben\n",
        "    std::cout << \"Der aktualisierte Radius des Kreises beträgt: \" << kreis.getRadius() << std::endl;\n",
        "\n",
        "    // Berechnung und Ausgabe des Flächeninhalts\n",
        "    std::cout << \"Der Flächeninhalt des Kreises beträgt: \" << kreis.berechneFlaecheninhalt() << std::endl;\n",
        "\n",
        "    return 0;\n",
        "}"
      ]
    },
    {
      "cell_type": "markdown",
      "source": [
        "#Beispiel 5 - Dokumentation\n",
        "**ChatGPT Prompt:**\n",
        "Dokumentation des Programmcodes mit Inline Kommentaren zur besseren Verständlichkeit. Als Beispiel dient das Programm aus Beispiel 1 - Summe zweier Zahlen ohne Kommentare"
      ],
      "metadata": {
        "id": "PFN4srOGq4sI"
      }
    },
    {
      "cell_type": "markdown",
      "metadata": {
        "id": "CuhYxChWmXYy"
      },
      "source": [
        "# Beispiel 5 - schlechter Prompt\n",
        "**ChatGPT Prompt:**\n",
        "$Code\n",
        "\n",
        "\n",
        "Schreibe für oben angegebenen Code in C++ Kommentare zur besseren Verständlichkeit\n",
        "\n",
        "-> Oft kommt man so schnon gut zurecht, man verlässt sich jedoch komplett auf die KI\n",
        "\n",
        "-> ABER:\n",
        "\n",
        "- kein Angabe der Länge der Kommentare\n",
        "- keine Angabe Kommentare für technischen oder logischen Zusammenhang gewünscht sind\n",
        "- keine Angabe zur Häufigkeit der Kommentare"
      ]
    },
    {
      "cell_type": "code",
      "source": [
        "%%cu\n",
        "//Ausgangslage\n",
        "//%%cu cell magic is required to use c++\n",
        "#include <iostream>\n",
        "\n",
        "int berechneSumme(int ersteZahl, int zweiteZahl) {\n",
        "    int summe = ersteZahl + zweiteZahl;\n",
        "    return summe;\n",
        "}\n",
        "\n",
        "int main() {\n",
        "    std::cout << \"Bitte gib die erste Zahl ein: \";\n",
        "    int eingabeZahl1;\n",
        "    std::cin >> eingabeZahl1;\n",
        "\n",
        "    std::cout << \"Bitte gib die zweite Zahl ein: \";\n",
        "    int eingabeZahl2;\n",
        "    std::cin >> eingabeZahl2;\n",
        "\n",
        "    int ergebnis = berechneSumme(eingabeZahl1, eingabeZahl2);\n",
        "\n",
        "    std::cout << \"Die Summe von \" << eingabeZahl1 << \" und \" << eingabeZahl2 << \" ist: \" << ergebnis << std::endl;\n",
        "\n",
        "    return 0;\n",
        "}"
      ],
      "metadata": {
        "id": "x0TlKWX7-rSg"
      },
      "execution_count": null,
      "outputs": []
    },
    {
      "cell_type": "code",
      "execution_count": null,
      "metadata": {
        "id": "B42bYWXImXYy"
      },
      "outputs": [],
      "source": [
        "%%cu\n",
        "//Ergebnis von ChatGPT\n",
        "//%%cu cell magic is required to use c++\n",
        "#include <iostream>\n",
        "\n",
        "// Funktion zur Berechnung der Summe von zwei Zahlen\n",
        "int berechneSumme(int ersteZahl, int zweiteZahl) {\n",
        "    // Lokale Variable \"summe\" wird deklariert und mit der Summe der beiden Zahlen initialisiert\n",
        "    int summe = ersteZahl + zweiteZahl;\n",
        "    // Die berechnete Summe wird zurückgegeben\n",
        "    return summe;\n",
        "}\n",
        "\n",
        "// Hauptfunktion (Entry Point) des Programms\n",
        "int main() {\n",
        "    // Benutzer wird aufgefordert, die erste Zahl einzugeben\n",
        "    std::cout << \"Bitte gib die erste Zahl ein: \";\n",
        "    // Eingabe wird in der Variable \"eingabeZahl1\" gespeichert\n",
        "    int eingabeZahl1;\n",
        "    std::cin >> eingabeZahl1;\n",
        "\n",
        "    // Benutzer wird aufgefordert, die zweite Zahl einzugeben\n",
        "    std::cout << \"Bitte gib die zweite Zahl ein: \";\n",
        "    // Eingabe wird in der Variable \"eingabeZahl2\" gespeichert\n",
        "    int eingabeZahl2;\n",
        "    std::cin >> eingabeZahl2;\n",
        "\n",
        "    // Die Funktion \"berechneSumme\" wird aufgerufen, um die Summe der eingegebenen Zahlen zu berechnen\n",
        "    int ergebnis = berechneSumme(eingabeZahl1, eingabeZahl2);\n",
        "\n",
        "    // Das Ergebnis wird auf der Konsole ausgegeben\n",
        "    std::cout << \"Die Summe von \" << eingabeZahl1 << \" und \" << eingabeZahl2 << \" ist: \" << ergebnis << std::endl;\n",
        "\n",
        "    // Das Programm wird erfolgreich beendet\n",
        "    return 0;\n",
        "}"
      ]
    },
    {
      "cell_type": "markdown",
      "metadata": {
        "id": "Ojfx8QgBmXYx"
      },
      "source": [
        "# Beispiel 5 - guter Prompt\n",
        "**ChatGPT Prompt:**\n",
        "\n",
        "Schreibe für oben angegebenen Code in C++ Kommentare zur besseren Verständlichkeit. Die Länge eines Kommentars sollte auf maximal 15 Wörter beschränkt sein. Pro Zeile Code dürfen maximal zwei Zeilen Kommentare sein. Kommentare sollten nur da geschrieben werden, wo es sinnvoll ist. Zum Beispiel braucht ein return 0 oder eine Variablendeklaration keinen Kommentar. Die Kommentare sollten sich darauf beschränkten, was logisch in dem Programm passiert. Detailliertere technische Ausführungen zu den einzelnen Programmzeilen ist nicht notwendig."
      ]
    },
    {
      "cell_type": "code",
      "execution_count": null,
      "metadata": {
        "id": "BYR6eYCbmXYy"
      },
      "outputs": [],
      "source": [
        "%%cu\n",
        "//%%cu cell magic is required to use c++\n",
        "#include <iostream>\n",
        "\n",
        "// Funktion zur Summenberechnung von zwei Zahlen\n",
        "int berechneSumme(int ersteZahl, int zweiteZahl) {\n",
        "    int summe = ersteZahl + zweiteZahl; // Summe berechnen\n",
        "    return summe; // Summe zurückgeben\n",
        "}\n",
        "\n",
        "// Hauptfunktion des Programms\n",
        "int main() {\n",
        "    std::cout << \"Bitte gib die erste Zahl ein: \"; // Benutzerinfo\n",
        "    int eingabeZahl1; std::cin >> eingabeZahl1; // Eingabe der ersten Zahl\n",
        "\n",
        "    std::cout << \"Bitte gib die zweite Zahl ein: \"; // Benutzerinfo\n",
        "    int eingabeZahl2; std::cin >> eingabeZahl2; // Eingabe der zweiten Zahl\n",
        "\n",
        "    int ergebnis = berechneSumme(eingabeZahl1, eingabeZahl2); // Summe berechnen\n",
        "\n",
        "    std::cout << \"Die Summe von \" << eingabeZahl1 << \" und \" << eingabeZahl2\n",
        "              << \" ist: \" << ergebnis << std::endl; // Ausgabe der Summe\n",
        "\n",
        "    return 0; // Erfolgreicher Programmabschluss\n",
        "}"
      ]
    },
    {
      "cell_type": "markdown",
      "metadata": {
        "id": "BJtVGbqmmXYy"
      },
      "source": [
        "# Cheat-Sheet für präzise und zielgerichtete Antworten\n",
        "\n",
        "Um präzise und zielgerichtete Antworten von ChatGPT zu erhalten, können bestimmte Stichwörter in den Prompts verwendet werden. Hier ist ein Cheat-Sheet mit einigen Beispielen:\n",
        "\n",
        "- **\"Wie kann ich...\"**: Verwenden Sie diese Formulierung, um nach Anleitungen oder Lösungen für bestimmte Aufgaben zu fragen.\n",
        "- **\"Was ist der Unterschied zwischen...\"**: Verwenden Sie diese Formulierung, um den Unterschied zwischen zwei Konzepten oder Technologien zu erfragen.\n",
        "- **\"Wie funktioniert...\"**: Verwenden Sie diese Formulierung, um eine Erklärung oder Beschreibung eines bestimmten Prozesses oder Algorithmus zu erhalten.\n",
        "- **\"Was sind die Vor- und Nachteile von...\"**: Verwenden Sie diese Formulierung, um eine Bewertung oder Analyse von Vor- und Nachteilen einer bestimmten Technologie oder Methode zu erhalten.\n",
        "- **\"Kannst du mir Beispiele für...\"**: Verwenden Sie diese Formulierung, um Beispiele oder Anwendungsfälle für bestimmte Konzepte oder Funktionen zu erhalten.\n",
        "- **\"Was sind bewährte Methoden für...\"**: Verwenden Sie diese Formulierung, um bewährte Methoden oder bewährte Vorgehensweisen für bestimmte Aufgaben oder Probleme zu erhalten.\n",
        "- **\"Wie kann ich Fehler beheben bei...\"**: Verwenden Sie diese Formulierung, um Lösungen oder Ansätze zur Fehlerbehebung bei bestimmten Problemen oder Fehlern zu erhalten.\n",
        "- **\"Was sind die aktuellen Trends in...\"**: Verwenden Sie diese Formulierung, um Informationen über die aktuellen Trends oder Entwicklungen in einem bestimmten Bereich oder einer bestimmten Technologie zu erhalten.\n",
        "- **\"Was sind die besten Ressourcen für...\"**: Verwenden Sie diese Formulierung, um Empfehlungen für die besten Ressourcen, Tutorials oder Dokumentationen zu einem bestimmten Thema oder einer bestimmten Technologie zu erhalten.\n",
        "\n",
        "Indem Sie diese Stichwörter in Ihren Prompts verwenden, können Sie ChatGPT dabei unterstützen, präzise und zielgerichtete Antworten zu generieren. Denken Sie daran, Ihre Anfragen so klar und spezifisch wie möglich zu formulieren, um die besten Ergebnisse zu erzielen.\n",
        "\n"
      ]
    },
    {
      "cell_type": "markdown",
      "metadata": {
        "id": "wUPZXoyImXYy"
      },
      "source": [
        "Quellen: https://www.greataiprompts.com/chat-gpt/best-coding-prompts-for-chat-gpt/#generate-code"
      ]
    }
  ],
  "metadata": {
    "kernelspec": {
      "display_name": "Python 3",
      "language": "python",
      "name": "python3"
    },
    "language_info": {
      "codemirror_mode": {
        "name": "ipython",
        "version": 3
      },
      "file_extension": ".py",
      "mimetype": "text/x-python",
      "name": "python",
      "nbconvert_exporter": "python",
      "pygments_lexer": "ipython3",
      "version": "3.12.0"
    },
    "colab": {
      "provenance": []
    }
  },
  "nbformat": 4,
  "nbformat_minor": 0
}