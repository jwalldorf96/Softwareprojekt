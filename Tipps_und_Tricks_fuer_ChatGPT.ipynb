{
 "cells": [
  {
   "cell_type": "markdown",
   "metadata": {},
   "source": [
    "[![Open In Colab](https://colab.research.google.com/assets/colab-badge.svg)](https://colab.research.google.com/github/jwalldorf96/Softwareprojekt/blob/main/Tipps_und_Tricks_fuer_ChatGPT.ipynb)"
   ]
  },
  {
   "cell_type": "markdown",
   "metadata": {},
   "source": [
    "# Einführung in die Interaktion mit KI-Modellen wie ChatGPT\n",
    "\n",
    "Künstliche Intelligenz (KI) hat das Potenzial, viele Aspekte unseres Lebens zu revolutionieren. Von der Automatisierung routinemäßiger Aufgaben bis hin zur Bereitstellung personalisierter Empfehlungen, KI-Modelle wie ChatGPT können uns dabei unterstützen, effizienter und informierter zu arbeiten. \n",
    "\n",
    "Allerdings erfordert die effektive Nutzung dieser Modelle ein gewisses Maß an Verständnis und Geschick. Dieses Notebook bietet praktische Tipps und Tricks, um die Interaktion mit KI-Modellen zu optimieren. Es wird erklärt, wie man klare und präzise Anweisungen gibt, wie man Codebeispiele zur Unterstützung verwendet, wie man Anweisungen in kleinere, handhabbare Schritte aufteilt und wie man Feedback gibt, um zukünftige Vorschläge zu verbessern.\n",
    "\n",
    "Es ist wichtig zu beachten, dass die Antworten der KI immer kritisch betrachtet werden sollten, da keine vollständige Genauigkeit gegeben ist. Mit den richtigen Techniken und einem kritischen Auge können wir jedoch das Beste aus diesen leistungsstarken Werkzeugen herausholen."
   ]
  },
  {
   "cell_type": "markdown",
   "metadata": {},
   "source": [
    "# Tipps für gute Prompts\n",
    "\n",
    "1. **Sei präzise**: Je klarer und spezifischer deine Anweisungen sind, desto besser kann die KI deine Anforderungen erfüllen.\n",
    "2. **Verwende Beispiele**: Wenn möglich, gib Beispiele für das gewünschte Ergebnis. Dies kann der KI helfen, deine Anforderungen besser zu verstehen.\n",
    "3. **Teile komplexe Anfragen auf**: Wenn du eine komplexe Anfrage hast, teile sie in kleinere, handhabbare Teile auf.\n",
    "4. **Sei geduldig**: KI ist ein Werkzeug, das immer noch lernt. Es kann einige Versuche erfordern, um die gewünschten Ergebnisse zu erzielen.\n",
    "5. **Überprüfe die Ergebnisse**: KI ist nicht unfehlbar. Überprüfe immer die Ergebnisse und hinterfrage sie kritisch.\n",
    "6. **Nutze Feedback**: Wenn die KI eine Möglichkeit bietet, Feedback zu geben, nutze diese. Dies hilft der KI, zu lernen und sich zu verbessern.\n",
    "7. **Verstehe die Grenzen**: KI hat seine Stärken und Schwächen. Verstehe, was die KI gut kann und wo sie Schwierigkeiten hat.\n",
    "8. **Sei ethisch**: Verwende KI verantwortungsvoll und respektiere die Privatsphäre und Rechte anderer.\n",
    "9. **Bleib auf dem Laufenden**: KI entwickelt sich ständig weiter. Bleib auf dem Laufenden über neue Funktionen und Verbesserungen.\n",
    "10. **Experimentiere**: Zögere nicht, mit verschiedenen Anweisungen und Ansätzen zu experimentieren, um zu sehen, was am besten funktioniert.\n",
    "11. **Quellenangaben**: Als Beweis für die Aussage solltest du nach Quellen Fragen und diese gegebenenfalls auf Korrektheit prüfen\n",
    "12. **Formatierung**: Gib vor, wie die Ausgabe formatiert werden soll. Zum Beispiel als Fließtext, als Stichpunkte oder in tabellarischer Form\n",
    "13. **Sprache**: Je nach Thema ist es relevant welche Sprache verwendet wird. Die Qualität der Antworten hängt immer auch stark von den Trainingsdaten ab, sind diese in Originalsprache, können keine Übersetzungsfehler auftreten. Bei wissenschaftlichen Themen und bei Programmieraufgaben ist es daher oft sinnvoll englisch zu verwenden. ChatGPT selbst hat keine Präferenz, empfiehlt aber eine der drei am häufigsten verwendeten Sprachen, zu denen englisch, spanisch und chinesisch zählen.\n",
    "13. **Ausdruck**: Die Trainingsdaten von ChatGPT basierend zum Großteil auf natürlicher Sprache, weshalb mit natürlichem und höflichem Wortlaut in einer Frage tendenziell ausführlicher und detailreichere Antworten zu erwarten sind.\n",
    "\n",
    "**!Wichtig! Die Antworten der KI müssen immer kritisch betrachtet werden, da keine vollständige Genauigkeit gegeben ist.**\n",
    "\n",
    "### Integration von ChatGPT\n",
    "\n",
    "ChatGPT kann nicht nur über die Webversion von OpenAI genutzt werden, sondern es gibt auch viele Integrationen, die die Verwendung in verschiedenen Umgebungen ermöglichen. Insbesondere für die Programmierunterstützung und die Arbeit mit Jupyter Notebooks gibt es einige Integrationen, die hilfreich sein können.\n",
    "\n",
    "Einige Beispiele für Integrationen zur Programmierunterstützung sind:\n",
    "\n",
    "- Visual Studio Code: Es gibt Erweiterungen, die die direkte Interaktion mit ChatGPT in der Code-Editor-Umgebung ermöglichen.\n",
    "- GitHub Copilot: Eine Integration, die ChatGPT verwendet, um Codevorschläge und -ergänzungen direkt in der Entwicklungsumgebung von GitHub bereitzustellen.\n",
    "- PyCharm: Eine IDE für Python, die ebenfalls eine Integration mit ChatGPT bietet.\n",
    "\n",
    "Für die Arbeit mit Jupyter Notebooks gibt es auch spezifische Integrationen, die die Interaktion mit ChatGPT erleichtern. Einige Beispiele sind:\n",
    "\n",
    "- JupyterLab: Eine erweiterte Version von Jupyter Notebook, die zusätzliche Funktionen und Integrationen bietet, darunter auch die Integration von ChatGPT.\n",
    "- Kaggle Notebooks: Eine Plattform für Data Science und maschinelles Lernen, die ebenfalls eine Integration mit ChatGPT ermöglicht.\n",
    "- Visual Studio Code: Auch hier können Jupyter Notebooks z.b. mit Github Copilot verarbeitet werden\n",
    "\n",
    "Es ist auch wichtig zu beachten, dass es zwei Arten von Prompts gibt: statische Prompts und dynamische Prompts. Statische Prompts sind vordefinierte Anweisungen, die nicht verändert werden können. Dynamische Prompts ermöglichen es, die Anweisungen während der Interaktion mit ChatGPT anzupassen, was eine größere Flexibilität bietet.\n",
    "\n",
    "Die Integrationen und die Verwendung von dynamischen Prompts ermöglichen es den Entwicklern, die Interaktion mit ChatGPT an ihre spezifischen Anforderungen Stück für Stück anzpassen und kontinuierlich zu verbessern.\n"
   ]
  },
  {
   "cell_type": "markdown",
   "metadata": {},
   "source": [
    "# Gute und schlechte prompt Beispiele\n",
    "Im folgenden Abschnitt werden gute und schlechte Beispiele für Prompts zur Kommunikation mit ChatGPT gegeben. Die Promptbeispiele erzeugen C++ Code, der direkt im Jupyter Notebook zum Testen ausgeführt werden kann. Als Vorausssetzung ist eine Initialisierung in Google Colab notwendig, um Abhängigkeiten für die Ausführung von C++ Code in der Systemumgebung zu installieren. Dazu muss zuvor der folgende Abschnitt einmal ausgeführt werden."
   ]
  },
  {
   "cell_type": "code",
   "execution_count": 4,
   "metadata": {},
   "outputs": [
    {
     "name": "stdout",
     "output_type": "stream",
     "text": [
      "\"*** 1.)  Test if NVIDIA(R)-cuda-compiler-driver is availabe...\"\n"
     ]
    },
    {
     "name": "stderr",
     "output_type": "stream",
     "text": [
      "Der Befehl \"nvcc\" ist entweder falsch geschrieben oder\n",
      "konnte nicht gefunden werden.\n"
     ]
    },
    {
     "name": "stdout",
     "output_type": "stream",
     "text": [
      "\"*** 2.) Install extension to run nvcc ...\"\n",
      "Collecting git+https://github.com/andreinechaev/nvcc4jupyter.git\n",
      "  Cloning https://github.com/andreinechaev/nvcc4jupyter.git to c:\\users\\jan\\appdata\\local\\temp\\pip-req-build-wdtphxwr\n",
      "  Resolved https://github.com/andreinechaev/nvcc4jupyter.git to commit 0a71d56e5dce3ff1f0dd2c47c29367629262f527\n",
      "  Installing build dependencies: started\n",
      "  Installing build dependencies: finished with status 'done'\n",
      "  Getting requirements to build wheel: started\n",
      "  Getting requirements to build wheel: finished with status 'done'\n",
      "  Preparing metadata (pyproject.toml): started\n",
      "  Preparing metadata (pyproject.toml): finished with status 'done'\n"
     ]
    },
    {
     "name": "stderr",
     "output_type": "stream",
     "text": [
      "  Running command git clone --filter=blob:none --quiet https://github.com/andreinechaev/nvcc4jupyter.git 'C:\\Users\\Jan\\AppData\\Local\\Temp\\pip-req-build-wdtphxwr'\n"
     ]
    },
    {
     "name": "stdout",
     "output_type": "stream",
     "text": [
      "\"*** 3.) Load extension using a 'line magic %' command....\"The nvcc_plugin extension is already loaded. To reload it, use:\n",
      "  %reload_ext nvcc_plugin\n",
      "\n"
     ]
    }
   ],
   "source": [
    "!echo \"*** 1.)  Test if NVIDIA(R)-cuda-compiler-driver is availabe...\"\n",
    "!nvcc --version\n",
    "!echo \"*** 2.) Install extension to run nvcc ...\"\n",
    "!pip install git+https://github.com/andreinechaev/nvcc4jupyter.git\n",
    "!echo \"*** 3.) Load extension using a 'line magic %' command....\"\n",
    "%load_ext nvcc_plugin"
   ]
  },
  {
   "cell_type": "markdown",
   "metadata": {},
   "source": [
    "# Beispiel 1 - Summe zwei Zahlen \n",
    "Aufgabe: Berechnung die Summer zweier Float Zahlen.\n",
    "# Beispiel 1 - guter Prompt\n",
    "\n"
   ]
  },
  {
   "cell_type": "code",
   "execution_count": null,
   "metadata": {},
   "outputs": [],
   "source": []
  },
  {
   "cell_type": "markdown",
   "metadata": {},
   "source": [
    "# Beispiel 1 - schlechter Prompt\n",
    "**ChatGPT Prompt:**\n",
    "Berechne die Summe zweier Zahlen in C++"
   ]
  },
  {
   "cell_type": "code",
   "execution_count": null,
   "metadata": {},
   "outputs": [],
   "source": [
    "%%cu\n",
    "//%%cu cell magic is required to use c++\n",
    "#include <iostream>\n",
    "\n",
    "int main() {\n",
    "    int num1 = 10;\n",
    "    int num2 = 20;\n",
    "    int sum = num1 + num2;\n",
    "    \n",
    "    std::cout << \"Die Summe ist: \" << sum << std::endl;\n",
    "    \n",
    "    return 0;\n",
    "}\n"
   ]
  },
  {
   "cell_type": "markdown",
   "metadata": {},
   "source": [
    "# Beispiel 2 - guter Prompt"
   ]
  },
  {
   "cell_type": "code",
   "execution_count": null,
   "metadata": {},
   "outputs": [],
   "source": []
  },
  {
   "cell_type": "markdown",
   "metadata": {},
   "source": [
    "# Beispiel 2 - schlechter Prompt"
   ]
  },
  {
   "cell_type": "code",
   "execution_count": null,
   "metadata": {},
   "outputs": [],
   "source": []
  },
  {
   "cell_type": "markdown",
   "metadata": {},
   "source": [
    "# Beispiel 3 - guter Prompt"
   ]
  },
  {
   "cell_type": "code",
   "execution_count": null,
   "metadata": {},
   "outputs": [],
   "source": []
  },
  {
   "cell_type": "markdown",
   "metadata": {},
   "source": [
    "# Beispiel 3- schlechter Prompt"
   ]
  },
  {
   "cell_type": "code",
   "execution_count": null,
   "metadata": {},
   "outputs": [],
   "source": []
  },
  {
   "cell_type": "markdown",
   "metadata": {},
   "source": [
    "# Beispiel 4 - guter Prompt"
   ]
  },
  {
   "cell_type": "code",
   "execution_count": null,
   "metadata": {},
   "outputs": [],
   "source": []
  },
  {
   "cell_type": "markdown",
   "metadata": {},
   "source": [
    "# Beispiel 4 - schlechter Prompt"
   ]
  },
  {
   "cell_type": "code",
   "execution_count": null,
   "metadata": {},
   "outputs": [],
   "source": []
  },
  {
   "cell_type": "markdown",
   "metadata": {},
   "source": [
    "# Beispiel 5 - guter Prompt"
   ]
  },
  {
   "cell_type": "code",
   "execution_count": null,
   "metadata": {},
   "outputs": [],
   "source": []
  },
  {
   "cell_type": "markdown",
   "metadata": {},
   "source": [
    "# Beispiel 5 - schlechter Prompt"
   ]
  },
  {
   "cell_type": "code",
   "execution_count": null,
   "metadata": {},
   "outputs": [],
   "source": []
  },
  {
   "cell_type": "markdown",
   "metadata": {},
   "source": [
    "# Cheat-Sheet für präzise und zielgerichtete Antworten\n",
    "\n",
    "Um präzise und zielgerichtete Antworten von ChatGPT zu erhalten, können bestimmte Stichwörter in den Prompts verwendet werden. Hier ist ein Cheat-Sheet mit einigen Beispielen:\n",
    "\n",
    "- **\"Wie kann ich...\"**: Verwenden Sie diese Formulierung, um nach Anleitungen oder Lösungen für bestimmte Aufgaben zu fragen.\n",
    "- **\"Was ist der Unterschied zwischen...\"**: Verwenden Sie diese Formulierung, um den Unterschied zwischen zwei Konzepten oder Technologien zu erfragen.\n",
    "- **\"Wie funktioniert...\"**: Verwenden Sie diese Formulierung, um eine Erklärung oder Beschreibung eines bestimmten Prozesses oder Algorithmus zu erhalten.\n",
    "- **\"Was sind die Vor- und Nachteile von...\"**: Verwenden Sie diese Formulierung, um eine Bewertung oder Analyse von Vor- und Nachteilen einer bestimmten Technologie oder Methode zu erhalten.\n",
    "- **\"Kannst du mir Beispiele für...\"**: Verwenden Sie diese Formulierung, um Beispiele oder Anwendungsfälle für bestimmte Konzepte oder Funktionen zu erhalten.\n",
    "- **\"Was sind bewährte Methoden für...\"**: Verwenden Sie diese Formulierung, um bewährte Methoden oder bewährte Vorgehensweisen für bestimmte Aufgaben oder Probleme zu erhalten.\n",
    "- **\"Wie kann ich Fehler beheben bei...\"**: Verwenden Sie diese Formulierung, um Lösungen oder Ansätze zur Fehlerbehebung bei bestimmten Problemen oder Fehlern zu erhalten.\n",
    "- **\"Was sind die aktuellen Trends in...\"**: Verwenden Sie diese Formulierung, um Informationen über die aktuellen Trends oder Entwicklungen in einem bestimmten Bereich oder einer bestimmten Technologie zu erhalten.\n",
    "- **\"Was sind die besten Ressourcen für...\"**: Verwenden Sie diese Formulierung, um Empfehlungen für die besten Ressourcen, Tutorials oder Dokumentationen zu einem bestimmten Thema oder einer bestimmten Technologie zu erhalten.\n",
    "\n",
    "Indem Sie diese Stichwörter in Ihren Prompts verwenden, können Sie ChatGPT dabei unterstützen, präzise und zielgerichtete Antworten zu generieren. Denken Sie daran, Ihre Anfragen so klar und spezifisch wie möglich zu formulieren, um die besten Ergebnisse zu erzielen.\n",
    "\n"
   ]
  },
  {
   "cell_type": "markdown",
   "metadata": {},
   "source": [
    "Quellen: https://www.greataiprompts.com/chat-gpt/best-coding-prompts-for-chat-gpt/#generate-code"
   ]
  }
 ],
 "metadata": {
  "kernelspec": {
   "display_name": "Python 3",
   "language": "python",
   "name": "python3"
  },
  "language_info": {
   "codemirror_mode": {
    "name": "ipython",
    "version": 3
   },
   "file_extension": ".py",
   "mimetype": "text/x-python",
   "name": "python",
   "nbconvert_exporter": "python",
   "pygments_lexer": "ipython3",
   "version": "3.12.0"
  }
 },
 "nbformat": 4,
 "nbformat_minor": 2
}
