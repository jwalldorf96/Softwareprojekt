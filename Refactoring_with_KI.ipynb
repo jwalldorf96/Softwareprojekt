{
 "cells": [
  {
   "cell_type": "markdown",
   "metadata": {},
   "source": [
    "In diesem Notebook werden wir untersuchen, wie Wissensinferenz (KI) zur Refaktorisierung von Code verwendet werden kann, um dessen Effizienz und Lesbarkeit zu verbessern.\n",
    "\n",
    "Was ist KI?: \"Wissensinferenz, oder KI, ist ein Bereich der KI, der sich auf die Generierung von neuem Wissen aus bestehenden Daten konzentriert. Im Kontext der Programmierung kann es zur Verbesserung von Code verwendet werden.\"\n",
    "\n",
    "Was ist Refactoring?: \"Refactoring ist der Prozess der Umstrukturierung von bestehendem Computercode, ohne dessen externes Verhalten zu ändern. Ziel ist es, die nichtfunktionalen Attribute der Software zu verbessern.\"\n",
    "\n",
    "Wie kann KI beim Refactoring verwendet werden?: \"KI kann beim Refactoring verwendet werden, indem der bestehende Code analysiert, dessen Funktionalität verstanden und Verbesserungen vorgeschlagen werden. Dies kann die Vereinfachung komplexen Codes, das Entfernen von Redundanzen und die Verbesserung der Code-Struktur umfassen.\"Notwendige Bibliotheken importieren: \"Wir beginnen mit dem Import der notwendigen Bibliotheken. Für diese Demonstration verwenden wir `ast` für abstrakte Syntaxbäume und `gumtree` für Baumdifferenzierung.\"\n",
    "\n",
    "Code, der refaktorisiert werden muss: \"Betrachten wir den folgenden Code, der die Fakultät einer Zahl berechnet. Er ist funktional, kann aber verbessert werden.\"\n",
    "\n",
    "Verwendung von KI zur Refaktorisierung des Codes: \"Wir verwenden KI, um diesen Code zu analysieren und Verbesserungen vorzuschlagen. Der refaktorisierte Code ist effizienter und leichter zu verstehen.\""
   ]
  },
  {
   "cell_type": "code",
   "execution_count": null,
   "metadata": {},
   "outputs": [],
   "source": []
  },
  {
   "cell_type": "markdown",
   "metadata": {},
   "source": [
    "Variablen mit sprechenden Namen anpassen\n"
   ]
  },
  {
   "cell_type": "code",
   "execution_count": null,
   "metadata": {},
   "outputs": [],
   "source": []
  },
  {
   "cell_type": "markdown",
   "metadata": {},
   "source": [
    "Variablen die ungenutzt sind löschen\n"
   ]
  },
  {
   "cell_type": "code",
   "execution_count": null,
   "metadata": {},
   "outputs": [],
   "source": []
  },
  {
   "cell_type": "markdown",
   "metadata": {},
   "source": [
    "Code komprimieren\n"
   ]
  },
  {
   "cell_type": "code",
   "execution_count": null,
   "metadata": {},
   "outputs": [],
   "source": []
  },
  {
   "cell_type": "markdown",
   "metadata": {},
   "source": [
    "Code in Funktionen auslagern\n"
   ]
  },
  {
   "cell_type": "code",
   "execution_count": null,
   "metadata": {},
   "outputs": [],
   "source": []
  },
  {
   "cell_type": "markdown",
   "metadata": {},
   "source": [
    "Code kommentieren"
   ]
  },
  {
   "cell_type": "code",
   "execution_count": null,
   "metadata": {},
   "outputs": [],
   "source": []
  },
  {
   "cell_type": "markdown",
   "metadata": {},
   "source": [
    "Fehlerbehandlung "
   ]
  },
  {
   "cell_type": "code",
   "execution_count": null,
   "metadata": {},
   "outputs": [],
   "source": []
  },
  {
   "cell_type": "markdown",
   "metadata": {},
   "source": [
    "Abfrage in der Eingabe in einer Schleife"
   ]
  },
  {
   "cell_type": "code",
   "execution_count": null,
   "metadata": {},
   "outputs": [],
   "source": []
  },
  {
   "cell_type": "markdown",
   "metadata": {},
   "source": [
    "\n",
    "\n",
    "Diskussion der Ergebnisse: \"Nach der Refaktorisierung ist der Code viel sauberer und leichter zu verstehen. Er läuft auch effizienter, da unnötige Berechnungen eliminiert wurden.\"\n",
    "\n",
    "Schlussfolgerung: \"Wie wir gesehen haben, kann KI ein leistungsfähiges Werkzeug zur Refaktorisierung von Code sein. Sie kann uns helfen, die Effizienz und Lesbarkeit unseres Codes zu verbessern, was die Wartung und Fehlersuche erleichtert.\"\n",
    "\n",
    "Bitte ersetzen Sie die Platzhalter durch den tatsächlichen Inhalt entsprechend Ihren Anforderungen."
   ]
  }
 ],
 "metadata": {
  "language_info": {
   "name": "python"
  }
 },
 "nbformat": 4,
 "nbformat_minor": 2
}
