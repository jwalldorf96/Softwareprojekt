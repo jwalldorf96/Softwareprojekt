{
  "cells": [
    {
      "cell_type": "markdown",
      "metadata": {
        "id": "mk5tQDnKjuQP"
      },
      "source": [
        "# Allgemeines zur Einleitung\n",
        "In diesem Notebook werden wir uns anschauen, wie Künstliche Intelligenz zu Refactoring von Code verwendet werden kann. Dazu zunächst ein paar einleitende Worte:\n",
        "\n",
        "**Was ist KI?:** \"Wissensinferenz, oder KI, ist ein Bereich der KI, der sich auf die Generierung von neuem Wissen aus bestehenden Daten konzentriert. Im Kontext der Programmierung kann es zur Verbesserung von Code verwendet werden.\"\n",
        "\n",
        "**Was ist Refactoring?:** \"Refactoring ist der Prozess der Umstrukturierung von bestehendem Computercode, ohne dessen externes Verhalten zu ändern. Ziel ist es, die nichtfunktionalen Attribute der Software zu verbessern.\"\n",
        "\n",
        "**Wie kann KI beim Refactoring verwendet werden?:** KI kann beim Refactoring verwendet werden, indem der bestehende Code analysiert, dessen Funktionalität verstanden und Verbesserungen vorgeschlagen werden. Dies kann die Vereinfachung komplexen Codes, das Entfernen von Redundanzen und die Verbesserung der Code-Struktur umfassen.\n",
        "\n",
        "**Ziel:** Prompt Beispiele zur praktischen Anwendung des Refacotrings mit einer KI, die zur als Unterstützung dienen seinen Code zu verbessern.\n",
        "\n",
        "Der Vorgang des Refactoring mit Unterstützung von KI soll nun am Beispiel der Praktikumsaufgabe P1b - Multiple Choice Test exemplarisch erläutert werden. Zur Generierung wurde als KI ChatGPT in der Version 3.5 verwendet."
      ]
    },
    {
      "cell_type": "markdown",
      "source": [
        "# 5. Tipps beim Umgang mit KI Modellen wie ChatGPT\n",
        "\n",
        "1. Anweisungen sollten prägnant und eindeutig sein, dies führt zu besseren Ergebnissen\n",
        "2. Anweisungen in mehrere kleine Schritte verpacken\n",
        "3. Anweisungen sollten höflich und interaktiv sein, da ChatGPT solchen Daten trainiert wurde und deshalb dann bessere Ergebnisse liefert\n",
        "4. Feedback an die KI verbessert deine zukünftige Vorschläge\n",
        "5.\n",
        "\n",
        "**!Wichtig! Die Antworten der KI müssen immer kritisch betrachtet werden, da keine vollständige Genauigkeit gegeben ist.**\n",
        "\n",
        "\n",
        "\n"
      ],
      "metadata": {
        "id": "_RzeId6nrgbh"
      }
    },
    {
      "cell_type": "markdown",
      "source": [
        "# Einrichtung der Umgebung für C++\n",
        "Damit wird den Beispielcode in C++ direkt im Jupyter Notebook compilieren und testen können, muss als erstes eine Extension installiert werden.\n",
        "Zu Beginn den folgenden Block daher einmalig ausführen:"
      ],
      "metadata": {
        "id": "YPriPNk9Jw-4"
      }
    },
    {
      "cell_type": "code",
      "execution_count": 1,
      "metadata": {
        "colab": {
          "base_uri": "https://localhost:8080/"
        },
        "id": "KiGSH1vGjuQY",
        "outputId": "9eafaaef-7bac-4a02-a621-4818bb8ede60"
      },
      "outputs": [
        {
          "output_type": "stream",
          "name": "stdout",
          "text": [
            "*** 1.)  Test if NVIDIA(R)-cuda-compiler-driver is availabe...\n",
            "nvcc: NVIDIA (R) Cuda compiler driver\n",
            "Copyright (c) 2005-2022 NVIDIA Corporation\n",
            "Built on Wed_Sep_21_10:33:58_PDT_2022\n",
            "Cuda compilation tools, release 11.8, V11.8.89\n",
            "Build cuda_11.8.r11.8/compiler.31833905_0\n",
            "*** 2.) Install extension to run nvcc ...\n",
            "Collecting git+https://github.com/andreinechaev/nvcc4jupyter.git\n",
            "  Cloning https://github.com/andreinechaev/nvcc4jupyter.git to /tmp/pip-req-build-70p69q13\n",
            "  Running command git clone --filter=blob:none --quiet https://github.com/andreinechaev/nvcc4jupyter.git /tmp/pip-req-build-70p69q13\n",
            "  Resolved https://github.com/andreinechaev/nvcc4jupyter.git to commit 0a71d56e5dce3ff1f0dd2c47c29367629262f527\n",
            "  Preparing metadata (setup.py) ... \u001b[?25l\u001b[?25hdone\n",
            "Building wheels for collected packages: NVCCPlugin\n",
            "  Building wheel for NVCCPlugin (setup.py) ... \u001b[?25l\u001b[?25hdone\n",
            "  Created wheel for NVCCPlugin: filename=NVCCPlugin-0.0.2-py3-none-any.whl size=4294 sha256=6442c986511ad2bbfb87779b073004c862a24d9c93d7622cb1baf5254707ccdc\n",
            "  Stored in directory: /tmp/pip-ephem-wheel-cache-8q4kxl8z/wheels/a8/b9/18/23f8ef71ceb0f63297dd1903aedd067e6243a68ea756d6feea\n",
            "Successfully built NVCCPlugin\n",
            "Installing collected packages: NVCCPlugin\n",
            "Successfully installed NVCCPlugin-0.0.2\n",
            "*** 3.) Load extension using a 'line magic %' command....\n",
            "created output directory at /content/src\n",
            "Out bin /content/result.out\n"
          ]
        }
      ],
      "source": [
        "!echo \"*** 1.)  Test if NVIDIA(R)-cuda-compiler-driver is availabe...\"\n",
        "!nvcc --version\n",
        "!echo \"*** 2.) Install extension to run nvcc ...\"\n",
        "!pip install git+https://github.com/andreinechaev/nvcc4jupyter.git\n",
        "!echo \"*** 3.) Load extension using a 'line magic %' command....\"\n",
        "%load_ext nvcc_plugin"
      ]
    },
    {
      "cell_type": "markdown",
      "source": [
        "# Ausgangslage: Basic Multiple Choice\n",
        "**ChatGPT:**\n",
        "\n",
        "Hallo, ich will eine einfache Multiple Choice Frage in C++ schreiben. Der Programmcode soll möglichst einfach zu verstehen sein und keine Kommentare enthalten. Kannst du mir dabei helfen?\n",
        "\n",
        "...\n",
        "\n",
        "Das sieht schon gut aus. In meiner Aufgabenstellung stehen noch folgende Eckpunkte, die berücksichtigt werden sollten:\n",
        "1. Eine echte Multiple Choice Frage, dass heißt mit mehreren richtigen Antworten.\n",
        "2. Die Antwort muss in einen C++ String eingelesen werden.\n",
        "3. Die Memberfunktion find von String muss genutzt werden sowie string::npos.\n",
        "4. Die gesamte Logik soll in eine Funktion ausgelagert werden, sodass in der main Funktion nur der Funktionsaufruf steht."
      ],
      "metadata": {
        "id": "_O99leyvJ46O"
      }
    },
    {
      "cell_type": "code",
      "source": [
        "%%cu\n",
        "//%%cu cell magic is required to use c++\n",
        "#include <iostream>\n",
        "#include <string>\n",
        "\n",
        "using namespace std;\n",
        "\n",
        "int main() {\n",
        "    string a=\"bd\";\n",
        "\n",
        "    cout << \"Welche dieser Städte liegen in Deutschland?\" << endl;\n",
        "    cout << \"a) Paris\" << endl;\n",
        "    cout << \"b) Berlin\" << endl;\n",
        "    cout << \"c) Rom\" << endl;\n",
        "    cout << \"d) Hamburg\" << endl;\n",
        "    cout << \"Ihre Antworten (z.B. ab): \";\n",
        "    cin >> a;\n",
        "\n",
        "    if (a.find('b') != string::npos &&  // Berlin\n",
        "        a.find('d') != string::npos) {   // Hamburg\n",
        "        cout << \"Richtig!\" << endl;\n",
        "    } else {\n",
        "        cout << \"Falsch.\" << endl;\n",
        "    }\n",
        "\n",
        "    return 0;\n",
        "}\n"
      ],
      "metadata": {
        "colab": {
          "base_uri": "https://localhost:8080/"
        },
        "id": "ZoDtoxWzKJxN",
        "outputId": "c6314711-6af7-477a-e208-dc0ba54ae979"
      },
      "execution_count": 7,
      "outputs": [
        {
          "output_type": "stream",
          "name": "stdout",
          "text": [
            "Welche dieser Städte liegen in Deutschland?\n",
            "a) Paris\n",
            "b) Berlin\n",
            "c) Rom\n",
            "d) Hamburg\n",
            "Ihre Antworten (z.B. ab): Richtig!\n",
            "\n"
          ]
        }
      ]
    },
    {
      "cell_type": "markdown",
      "source": [
        "# Start des Refactorings\n",
        "\n",
        "**ChatGPT:**\n",
        "\n",
        "\n",
        "Hi, ich will gerne folgenden Code mit refactoring verbessern. Bitte hilf mir dabei und gehe dabei in kleinen Schritten vor. Was ich genau anpassen will folgt im nächsten Abschnitt."
      ],
      "metadata": {
        "id": "fM6cg0CASEii"
      }
    },
    {
      "cell_type": "markdown",
      "metadata": {
        "id": "ZaxIF8ddjuQa"
      },
      "source": [
        "# Variablen mit sprechenden Namen\n",
        "\n",
        "**ChatGPT:**\n",
        "\n",
        "Bitte vergib im ersten Schritt sprechende Variablennamen."
      ]
    },
    {
      "cell_type": "code",
      "execution_count": 1,
      "metadata": {
        "id": "GvYCxCOxjuQb"
      },
      "outputs": [],
      "source": [
        "%%cu\n",
        "//%%cu cell magic is required to use c++\n",
        "#include <iostream>\n",
        "#include <string>\n",
        "\n",
        "using namespace std;\n",
        "\n",
        "int main() {\n",
        "    string selectedOptions = \"bd\";\n",
        "\n",
        "    cout << \"Welche dieser Städte liegen in Deutschland?\" << endl;\n",
        "    cout << \"a) Paris\" << endl;\n",
        "    cout << \"b) Berlin\" << endl;\n",
        "    cout << \"c) Rom\" << endl;\n",
        "    cout << \"d) Hamburg\" << endl;\n",
        "    cout << \"Ihre Antworten (z.B. ab): \";\n",
        "    cin >> selectedOptions;\n",
        "\n",
        "    if (selectedOptions.find('b') != string::npos &&  // Berlin\n",
        "        selectedOptions.find('d') != string::npos) {   // Hamburg\n",
        "        cout << \"Richtig!\" << endl;\n",
        "    } else {\n",
        "        cout << \"Falsch.\" << endl;\n",
        "    }\n",
        "\n",
        "    return 0;\n",
        "}"
      ]
    },
    {
      "cell_type": "markdown",
      "metadata": {
        "id": "ur2l9HQBjuQb"
      },
      "source": [
        "# ungenutzte Variablen löschen\n",
        "\n",
        "**ChatGPT:**\n",
        "\n",
        "Bitte prüfe, ob im Code ungenutzte Variablen vorhanden sind und lösche diese.\n"
      ]
    },
    {
      "cell_type": "code",
      "execution_count": null,
      "metadata": {
        "id": "pGSKgYpYjuQc"
      },
      "outputs": [],
      "source": []
    },
    {
      "cell_type": "markdown",
      "metadata": {
        "id": "x3GlE-rSjuQd"
      },
      "source": [
        "# Code komprimieren\n",
        "\n",
        "**ChatGPT:**\n",
        "\n",
        "Das sieht gut aus, Danke! Im nächsten Schritt soll der Programmcode bitte etwas kompakter aufgeschrieben werden.\n"
      ]
    },
    {
      "cell_type": "code",
      "execution_count": null,
      "metadata": {
        "id": "zAcgRwWdjuQe"
      },
      "outputs": [],
      "source": [
        "%%cu\n",
        "//%%cu cell magic is required to use c++\n",
        "#include <iostream>\n",
        "#include <string>\n",
        "\n",
        "using namespace std;\n",
        "\n",
        "int main() {\n",
        "    string selectedOptions;\n",
        "\n",
        "    cout << \"Welche dieser Städte liegen in Deutschland?\\n\"\n",
        "         << \"a) Paris\\n\"\n",
        "         << \"b) Berlin\\n\"\n",
        "         << \"c) Rom\\n\"\n",
        "         << \"d) Hamburg\\n\"\n",
        "         << \"Ihre Antworten (z.B. ab): \";\n",
        "    cin >> selectedOptions;\n",
        "\n",
        "    if (selectedOptions.find('b') != string::npos && selectedOptions.find('d') != string::npos)\n",
        "        cout << \"Richtig!\\n\";\n",
        "    else\n",
        "        cout << \"Falsch.\\n\";\n",
        "\n",
        "    return 0;\n",
        "}"
      ]
    },
    {
      "cell_type": "markdown",
      "metadata": {
        "id": "zP6TvIU1juQi"
      },
      "source": [
        "# Code kommentieren\n",
        "\n",
        "**ChatGPT:**\n",
        "\n",
        "Füge anschließend bitte noch Kommentare ein, die den Programmcode erklären, sodass man ihn besser verstehen kann. Außerdem füge in der ersten Zeile des Files eine kleine Zusammenfassung ein, was das Programm allgemein macht."
      ]
    },
    {
      "cell_type": "code",
      "source": [],
      "metadata": {
        "id": "fg-WKGS8V1_u"
      },
      "execution_count": null,
      "outputs": []
    },
    {
      "cell_type": "markdown",
      "source": [
        "# Datentyp in size_t verändern\n",
        "\n",
        "**ChatGPT:**\n",
        "\n",
        "Als nächstes nutze bitte den size_t Operator zur Speicherung und Abfrage der richtigen Antwort."
      ],
      "metadata": {
        "id": "bpVdZbuNVzTz"
      }
    },
    {
      "cell_type": "code",
      "execution_count": null,
      "metadata": {
        "id": "bERZvUwYjuQj"
      },
      "outputs": [],
      "source": []
    },
    {
      "cell_type": "markdown",
      "metadata": {
        "id": "ltzuC8s7juQk"
      },
      "source": [
        "# Mehrmalige Eingabe ermöglichen\n",
        "\n",
        "**ChatGPT: **\n",
        "\n",
        "Danke. Füge bitte eine Schleife ein, sodass man bei einer faschen Eingabe nochmal eine Chance bekommt die Frage richtig zu beantworten. Man sollte aber nicht mehr wie zwei Versuche bekommen.\n",
        "\n"
      ]
    },
    {
      "cell_type": "code",
      "execution_count": null,
      "metadata": {
        "id": "WcoDSivujuQk"
      },
      "outputs": [],
      "source": []
    },
    {
      "cell_type": "markdown",
      "metadata": {
        "id": "-0sB05qtjuQj"
      },
      "source": [
        "# Fehlerbehandlung ergänzen\n",
        "mögliche Fehlerursachen:\n",
        "Falscher Datentyp:\n",
        "\n",
        "Der Benutzer gibt einen Buchstaben anstelle einer Zahl ein oder umgekehrt.\n",
        "Der Benutzer gibt eine Zeichenkette ein, wenn eine Zahl erwartet wird, oder umgekehrt.\n",
        "Leerer Eingabepuffer:\n",
        "\n",
        "Es gibt Zeichen im Eingabepuffer, die nicht korrekt verarbeitet wurden.\n",
        "Ende der Datei (EOF) erreicht:\n",
        "\n",
        "Der Benutzer gibt eine Eingabe ein, die das vorzeitige Ende der Datei signalisiert.\n",
        "Andere unerwartete Eingaben:\n",
        "\n",
        "Der Benutzer gibt eine Eingabe ein, die nicht den erwarteten Mustern entspricht.\n",
        "\n",
        "**ChatGPT:**\n",
        "\n",
        "Bitte füge noch eine Fehlerbehandlung ein, sodass ungeeignete Eingaben vom Benutzer abgefangen werden"
      ]
    },
    {
      "cell_type": "code",
      "execution_count": null,
      "metadata": {
        "id": "I15vnGY6juQj"
      },
      "outputs": [],
      "source": []
    },
    {
      "cell_type": "markdown",
      "metadata": {
        "id": "jpFC_4eFjuQl"
      },
      "source": [
        "# Diskussion der Ergebnisse:\n",
        "\n",
        " \"Nach der Refaktorisierung ist der Code viel sauberer und leichter zu verstehen. Er läuft auch effizienter, da unnötige Berechnungen eliminiert wurden.\"\n",
        "\n",
        "Schlussfolgerung: \"Wie wir gesehen haben, kann KI ein leistungsfähiges Werkzeug zur Refaktorisierung von Code sein. Sie kann uns helfen, die Effizienz und Lesbarkeit unseres Codes zu verbessern, was die Wartung und Fehlersuche erleichtert.\"\n",
        "\n",
        "Bitte ersetzen Sie die Platzhalter durch den tatsächlichen Inhalt entsprechend Ihren Anforderungen."
      ]
    }
  ],
  "metadata": {
    "language_info": {
      "name": "python"
    },
    "colab": {
      "provenance": []
    },
    "kernelspec": {
      "name": "python3",
      "display_name": "Python 3"
    }
  },
  "nbformat": 4,
  "nbformat_minor": 0
}
