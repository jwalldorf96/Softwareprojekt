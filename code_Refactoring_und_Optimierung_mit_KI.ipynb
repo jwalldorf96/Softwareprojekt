{
  "cells": [
    {
      "cell_type": "markdown",
      "metadata": {
        "id": "NNzhQM6z-O41"
      },
      "source": [
        "[![Open In Colab](https://colab.research.google.com/assets/colab-badge.svg)](https://colab.research.google.com/github/jwalldorf96/Softwareprojekt/blob/main/code_Refactoring_und_Optimierung_mit_KI.ipynb)"
      ]
    },
    {
      "cell_type": "markdown",
      "metadata": {
        "id": "mk5tQDnKjuQP"
      },
      "source": [
        "\n",
        "# Einleitung - Thema: Code Refactoring und Optimierung mit KI\n",
        "In diesem Notebook werden wir uns anschauen, wie Künstliche Intelligenz zu Refactoring und Optimierung von Code verwendet werden kann. Dazu zunächst ein paar einleitende Worte:\n",
        "\n",
        "**Was ist KI?:** Künstliche Intelligenz konzentriert sich auf die Generierung von neuem Wissen aus bestehenden Daten. Im Kontext der Programmierung kann sie zur Verbesserung von Code verwendet werden.\n",
        "\n",
        "**Was ist Refactoring?:** Refactoring ist der Prozess der Umstrukturierung von bestehendem Computercode, ohne dessen externes Verhalten zu ändern. Ziel ist es, die nichtfunktionalen Attribute der Software zu verbessern.\n",
        "\n",
        "**Wie kann KI beim Refactoring verwendet werden?:** KI kann beim Refactoring verwendet werden, indem der bestehende Code analysiert, dessen Funktionalität verstanden und Verbesserungen vorgeschlagen werden. Dies kann die Vereinfachung komplexen Codes, das Entfernen von Redundanzen und die Verbesserung der Code-Struktur umfassen.\n",
        "\n",
        "**Ziel:** Prompt Beispiele zur praktischen Anwendung des Refacotrings mit einer KI sowie Beispiele, um weitere Funktionen hinzuzufügen.\n",
        "\n",
        "Der Vorgang des Refactoring und Optimierung mit Unterstützung von KI soll nun am Beispiel der Praktikumsaufgabe P1a - \"Multiple Choice Test\" in C++ exemplarisch erläutert werden. Zur Generierung wurde als KI ChatGPT in der Version 3.5 verwendet.\n",
        "\n",
        "(Hinweis: Bei dem Beispiel sind Command Line Eingaben vorgesehen. Da aber in Colab diese nicht vorgesehen sind, sind die Antworten im Programmcode vorgegeben)"
      ]
    },
    {
      "cell_type": "markdown",
      "metadata": {
        "id": "_RzeId6nrgbh"
      },
      "source": [
        "# 5 Tipps beim Umgang mit KI Modellen wie ChatGPT\n",
        "\n",
        "1. Anweisungen sollten prägnant und eindeutig sein, dies führt zu besseren Ergebnissen\n",
        "2. Anweisungen mit Codebeispielen unterstützen\n",
        "3. Anweisungen in mehrere kleine Schritte aufteilen\n",
        "4. Anweisungen sollten höflich und interaktiv sein, da ChatGPT mit solchen Daten trainiert wurde und deshalb dann bessere Ergebnisse liefert\n",
        "5. Feedback an die KI verbessert deine zukünftigen Vorschläge\n",
        "\n",
        "\n",
        "**!Wichtig! Die Antworten der KI müssen immer kritisch betrachtet werden, da keine vollständige Genauigkeit gegeben ist.**\n",
        "\n",
        "\n",
        "\n"
      ]
    },
    {
      "cell_type": "markdown",
      "metadata": {
        "id": "YPriPNk9Jw-4"
      },
      "source": [
        "# Vorbereitung - Einrichtung der Umgebung für C++\n",
        "Damit wird den Beispielcode in C++ direkt im Jupyter Notebook compilieren und testen können, muss als erstes eine Extension installiert werden.\n",
        "Zu Beginn muss daher der folgende Block einmalig ausgeführt werden:"
      ]
    },
    {
      "cell_type": "code",
      "execution_count": null,
      "metadata": {
        "id": "KiGSH1vGjuQY"
      },
      "outputs": [],
      "source": [
        "!echo \"Installation according to https://github.com/andreinechaev/nvcc4jupyter\"\n",
        "!echo \"*** 1.)  Test if NVIDIA(R)-cuda-compiler-driver is availabe...\"\n",
        "!nvcc --version\n",
        "!echo \"*** 2.) Install extension to run nvcc ...\"\n",
        "%pip install nvcc4jupyter\n",
        "!echo \"*** 3.) Load extension using a 'line magic %' command....\"\n",
        "%load_ext nvcc4jupyter"
      ]
    },
    {
      "cell_type": "markdown",
      "metadata": {
        "id": "_O99leyvJ46O"
      },
      "source": [
        "# Ausgangslage: Basic Multiple Choice Test\n",
        "**Aufgabenstellung**\n",
        "\n",
        "Ein Multiple Choice Test zu einem beliebigen Thema mit folgenden Anforderungen:\n",
        "\n",
        "\n",
        "1. Eine echte Multiple Choice Frage, dass heißt mit mehreren richtigen Antworten.\n",
        "2. Die Antwort muss in einen C++ String eingelesen werden.\n",
        "3. Die Memberfunktion find von String muss genutzt werden sowie string::npos.\n",
        "4. Die gesamte Logik soll in eine Funktion ausgelagert werden, sodass in der main Funktion nur der Funktionsaufruf steht."
      ]
    },
    {
      "cell_type": "code",
      "execution_count": null,
      "metadata": {
        "id": "ZoDtoxWzKJxN"
      },
      "outputs": [],
      "source": [
        "%%cuda\n",
        "//%%cuda cell magic is required to use c++\n",
        "#include <iostream>\n",
        "#include <string>\n",
        "\n",
        "using namespace std;\n",
        "\n",
        "int main() {\n",
        "    string a=\"bd\";\n",
        "    string b=\"bd\";\n",
        "\n",
        "    cout << \"Welche dieser Städte liegen in Deutschland?\" << endl;\n",
        "    cout << \"a) Paris\" << endl;\n",
        "    cout << \"b) Berlin\" << endl;\n",
        "    cout << \"c) Rom\" << endl;\n",
        "    cout << \"d) Hamburg\" << endl;\n",
        "    cout << \"Ihre Antworten (z.B. ab): \";\n",
        "    cin >> a;\n",
        "\n",
        "    if (a.find('b') != string::npos &&  // Berlin\n",
        "        a.find('d') != string::npos) {   // Hamburg\n",
        "        cout << \"Richtig!\" << endl;\n",
        "    } else {\n",
        "        cout << \"Falsch.\" << endl;\n",
        "    }\n",
        "\n",
        "    return 0;\n",
        "}"
      ]
    },
    {
      "cell_type": "markdown",
      "metadata": {
        "id": "fM6cg0CASEii"
      },
      "source": [
        "# Refactoring\n",
        "\n",
        "Um den Vorgang des Refactoring besser nachvollziehbar zu gestalten, wird in kleinen Schritten vorgegangen, die nachfolgend beschrieben sind. Sicherlich kann der ganze Vorgang auch vereinfacht mit einer Anweisung \"Please refactor my code\" angestoßen werden, allerdings verliert man so ein gewisses Maß an Kontrolle und bei Problemen erschwert es einem die Fehlersuche.\n",
        "\n",
        "**ChatGPT Prompt:**\n",
        "\n",
        "\n",
        "*Hi, ich will gerne gleich folgenden Code mit Refactoring verbessern. Bitte hilf mir dabei und gehe dabei in kleinen Schritten vor. Was ich genau anpassen will folgt im nächsten Abschnitt.* [2] [3] [4]\n",
        "\n",
        "\n",
        "->Code in Chat kopieren"
      ]
    },
    {
      "cell_type": "markdown",
      "metadata": {
        "id": "ZaxIF8ddjuQa"
      },
      "source": [
        "## Variablen mit sprechenden Namen\n",
        "\n",
        "**ChatGPT Prompt:**\n",
        "\n",
        "*Bitte vergib im ersten Schritt sprechende Variablennamen. Als Basis nutze den Google Style Guide für C++ * [2] [3] [4]"
      ]
    },
    {
      "cell_type": "code",
      "execution_count": null,
      "metadata": {
        "id": "GvYCxCOxjuQb"
      },
      "outputs": [],
      "source": [
        "%%cuda\n",
        "//Quelle [1]\n",
        "//%%cuda cell magic is required to use c++\n",
        "#include <iostream>\n",
        "#include <string>\n",
        "\n",
        "using namespace std;\n",
        "\n",
        "int main() {\n",
        "    string userAnswers = \"bd\";\n",
        "    string correctAnswers = \"bd\";\n",
        "\n",
        "    cout << \"Welche dieser Städte liegen in Deutschland?\" << endl;\n",
        "    cout << \"a) Paris\" << endl;\n",
        "    cout << \"b) Berlin\" << endl;\n",
        "    cout << \"c) Rom\" << endl;\n",
        "    cout << \"d) Hamburg\" << endl;\n",
        "    cout << \"Ihre Antworten (z.B. ab): \";\n",
        "    cin >> userAnswers;\n",
        "\n",
        "    if (userAnswers.find('b') != string::npos &&\n",
        "        userAnswers.find('d') != string::npos) {\n",
        "        cout << \"Richtig!\" << endl;\n",
        "    } else {\n",
        "        cout << \"Falsch.\" << endl;\n",
        "    }\n",
        "\n",
        "    return 0;\n",
        "}"
      ]
    },
    {
      "cell_type": "markdown",
      "metadata": {
        "id": "5B_N1881NYqM"
      },
      "source": [
        "**KI:**\n",
        "\n",
        "Hier habe ich die Variable a in userAnswers und b in correctAnswers umbenannt, um den Zweck der Variablen klarer zu machen."
      ]
    },
    {
      "cell_type": "markdown",
      "metadata": {
        "id": "ur2l9HQBjuQb"
      },
      "source": [
        "## ungenutzte Variablen löschen\n",
        "\n",
        "**ChatGPT Prompt:**\n",
        "\n",
        "*Bitte prüfe, ob im Code ungenutzte Variablen vorhanden sind und lösche diese.* [2] [3] [4]\n"
      ]
    },
    {
      "cell_type": "code",
      "execution_count": null,
      "metadata": {
        "id": "pGSKgYpYjuQc"
      },
      "outputs": [],
      "source": [
        "%%cuda\n",
        "//Quelle [1]\n",
        "//%%cuda cell magic is required to use c++\n",
        "#include <iostream>\n",
        "#include <string>\n",
        "\n",
        "using namespace std;\n",
        "\n",
        "int main() {\n",
        "    string userAnswers = \"bd\";\n",
        "\n",
        "    cout << \"Welche dieser Städte liegen in Deutschland?\" << endl;\n",
        "    cout << \"a) Paris\" << endl;\n",
        "    cout << \"b) Berlin\" << endl;\n",
        "    cout << \"c) Rom\" << endl;\n",
        "    cout << \"d) Hamburg\" << endl;\n",
        "    cout << \"Ihre Antworten (z.B. ab): \";\n",
        "    cin >> userAnswers;\n",
        "\n",
        "    if (userAnswers.find('b') != string::npos &&\n",
        "        userAnswers.find('d') != string::npos) {\n",
        "        cout << \"Richtig!\" << endl;\n",
        "    } else {\n",
        "        cout << \"Falsch.\" << endl;\n",
        "    }\n",
        "\n",
        "    return 0;\n",
        "}"
      ]
    },
    {
      "cell_type": "markdown",
      "metadata": {
        "id": "VUhLWRKzOJPQ"
      },
      "source": [
        "**KI**\n",
        "\n",
        "Es sieht so aus, als ob die Variable correctAnswers im aktuellen Zustand des Codes nicht verwendet wird. Daher können wir sie entfernen."
      ]
    },
    {
      "cell_type": "markdown",
      "metadata": {
        "id": "x3GlE-rSjuQd"
      },
      "source": [
        "## Code komprimieren\n",
        "\n",
        "**ChatGPT Prompt:**\n",
        "\n",
        "*Das sieht gut aus, Danke! Im nächsten Schritt soll der Programmcode bitte etwas kompakter aufgeschrieben werden. Prüfe außerdem, ob im Code Vereinfachungen bei Verzweigungen vorgenommen werden können. Ist jede Bedingung notwendig oder kann die Logik auch einfacher aufgebaut werden?* [2] [3] [4]\n"
      ]
    },
    {
      "cell_type": "code",
      "execution_count": null,
      "metadata": {
        "id": "zAcgRwWdjuQe"
      },
      "outputs": [],
      "source": [
        "%%cuda\n",
        "//Quelle [1]\n",
        "//%%cuda cell magic is required to use c++\n",
        "#include <iostream>\n",
        "#include <string>\n",
        "\n",
        "using namespace std;\n",
        "\n",
        "int main() {\n",
        "    string userAnswers = \"bd\";\n",
        "\n",
        "    cout << \"Welche dieser Städte liegen in Deutschland?\" << endl\n",
        "         << \"a) Paris\\nb) Berlin\\nc) Rom\\nd) Hamburg\" << endl\n",
        "         << \"Ihre Antworten (z.B. ab): \";\n",
        "    cin >> userAnswers;\n",
        "\n",
        "    cout << (userAnswers.find('b') != string::npos && userAnswers.find('d') != string::npos ? \"Richtig!\" : \"Falsch.\") << endl;\n",
        "\n",
        "    return 0;\n",
        "}"
      ]
    },
    {
      "cell_type": "markdown",
      "metadata": {
        "id": "zP6TvIU1juQi"
      },
      "source": [
        "## Code kommentieren\n",
        "\n",
        "**ChatGPT Prompt:**\n",
        "\n",
        "*Füge anschließend bitte noch Kommentare ein, die den Programmcode erklären, sodass man ihn besser verstehen kann. Außerdem füge in der ersten Zeile des Files eine kleine Zusammenfassung ein, was das Programm allgemein macht.* [2] [3] [4]"
      ]
    },
    {
      "cell_type": "code",
      "execution_count": null,
      "metadata": {
        "id": "fg-WKGS8V1_u"
      },
      "outputs": [],
      "source": [
        "%%cuda\n",
        "//Quelle [1]\n",
        "//%%cuda cell magic is required to use c++\n",
        "// Dieses Programm überprüft, ob die vom Benutzer eingegebenen Antworten Berlin und Hamburg sind,\n",
        "// um herauszufinden, ob sie Städte in Deutschland identifiziert haben.\n",
        "\n",
        "#include <iostream>\n",
        "#include <string>\n",
        "\n",
        "using namespace std;\n",
        "\n",
        "int main() {\n",
        "    // Benutzereingabe für die Antworten\n",
        "    string userAnswers = \"BD\";\n",
        "\n",
        "    // Ausgabe der Frage nach Städten in Deutschland\n",
        "    cout << \"Welche dieser Städte liegen in Deutschland?\" << endl\n",
        "         << \"a) Paris\\nb) Berlin\\nc) Rom\\nd) Hamburg\" << endl\n",
        "         << \"Ihre Antworten (z.B. ab): \";\n",
        "    cin >> userAnswers;\n",
        "\n",
        "    // Überprüfung der Antworten und Ausgabe entsprechender Meldung\n",
        "    cout << (userAnswers.find('b') != string::npos && userAnswers.find('d') != string::npos ? \"Richtig!\" : \"Falsch.\") << endl;\n",
        "\n",
        "    return 0;\n",
        "}"
      ]
    },
    {
      "cell_type": "markdown",
      "metadata": {
        "id": "b9kENA8gAg4I"
      },
      "source": [
        "# Code optimieren/verbessern\n",
        "Im folgenden Abschnitt sollen noch ein paar Anregungen gegeben werden, wie man den oben angegebenen Code verbessern könnte, indem man gezielt die KI Anpassungen vornehmen lässt."
      ]
    },
    {
      "cell_type": "markdown",
      "metadata": {
        "id": "ul-I2UMzPZQ_"
      },
      "source": [
        "## Groß-/Kleinschreibung von Antworten akzeptieren\n",
        "\n",
        "**ChatGPT Prompt:**\n",
        "\n",
        "*Ich kann als Antwort nur Kleinbuchstaben eingeben, bitte ändere dies, sodass auch Großbuchstaben akzeptiert werden* [2] [3] [4]"
      ]
    },
    {
      "cell_type": "code",
      "execution_count": null,
      "metadata": {
        "id": "LV6AW0SOP8U9"
      },
      "outputs": [],
      "source": [
        "%%cuda\n",
        "//Quelle [1]\n",
        "//%%cuda cell magic is required to use c++\n",
        "// Dieses Programm überprüft, ob die vom Benutzer eingegebenen Antworten Berlin und Hamburg sind,\n",
        "// um herauszufinden, ob sie Städte in Deutschland identifiziert haben.\n",
        "\n",
        "#include <iostream>\n",
        "#include <string>\n",
        "#include <algorithm>  // für die transform-Funktion\n",
        "\n",
        "using namespace std;\n",
        "\n",
        "int main() {\n",
        "    // Benutzereingabe für die Antworten\n",
        "    string userAnswers = \"BD\";\n",
        "\n",
        "    // Ausgabe der Frage nach Städten in Deutschland\n",
        "    cout << \"Welche dieser Städte liegen in Deutschland?\" << endl\n",
        "         << \"a) Paris\\nb) Berlin\\nc) Rom\\nd) Hamburg\" << endl\n",
        "         << \"Ihre Antworten (z.B. ab): \";\n",
        "    cin >> userAnswers;\n",
        "\n",
        "    // Konvertierung der Benutzereingabe zu Kleinbuchstaben\n",
        "    transform(userAnswers.begin(), userAnswers.end(), userAnswers.begin(), ::tolower);\n",
        "\n",
        "    // Überprüfung der Antworten und Ausgabe entsprechender Meldung\n",
        "    cout << (userAnswers.find('b') != string::npos && userAnswers.find('d') != string::npos ? \"Richtig!\" : \"Falsch.\") << endl;\n",
        "\n",
        "    return 0;\n",
        "}"
      ]
    },
    {
      "cell_type": "markdown",
      "metadata": {
        "id": "8hlKvI4OP8sc"
      },
      "source": [
        "**KI**\n",
        "\n",
        "Ich habe die transform-Funktion verwendet, um die Benutzereingabe in Kleinbuchstaben umzuwandeln. Damit sollte das Programm jetzt sowohl Groß- als auch Kleinbuchstaben akzeptieren."
      ]
    },
    {
      "cell_type": "markdown",
      "metadata": {
        "id": "bpVdZbuNVzTz"
      },
      "source": [
        "## Datentyp für Antworten in vector<string> verändern\n",
        "\n",
        "**ChatGPT Prompt:**\n",
        "\n",
        "*Als nächstes nutze bitte den vector string Operator zur Speicherung und Abfrage der richtigen Antwort.* [2] [3] [4]"
      ]
    },
    {
      "cell_type": "markdown",
      "metadata": {},
      "source": []
    },
    {
      "cell_type": "code",
      "execution_count": null,
      "metadata": {
        "id": "bERZvUwYjuQj"
      },
      "outputs": [],
      "source": [
        "%%cuda\n",
        "//Quelle [1]\n",
        "//%%cuda cell magic is required to use c++\n",
        "// Dieses Programm überprüft, ob die vom Benutzer eingegebenen Antworten Berlin und Hamburg sind,\n",
        "// um herauszufinden, ob sie Städte in Deutschland identifiziert haben.\n",
        "\n",
        "#include <iostream>\n",
        "#include <string>\n",
        "#include <vector>\n",
        "#include <algorithm>  // für die transform-Funktion\n",
        "\n",
        "using namespace std;\n",
        "\n",
        "int main() {\n",
        "    // Vektor für die richtigen Antworten\n",
        "    vector<string> correctAnswers{\"Berlin\", \"Hamburg\"};\n",
        "\n",
        "    // Benutzereingabe für die Antworten\n",
        "    string userAnswers;\n",
        "\n",
        "    // Ausgabe der Frage nach Städten in Deutschland\n",
        "    cout << \"Welche dieser Städte liegen in Deutschland?\" << endl\n",
        "         << \"a) Paris\\nb) Berlin\\nc) Rom\\nd) Hamburg\" << endl\n",
        "         << \"Ihre Antworten (z.B. Berlin Hamburg): \";\n",
        "    getline(cin, userAnswers);  // Verwende getline, um Leerzeichen im Input zu unterstützen\n",
        "\n",
        "    // Konvertierung der Benutzereingabe zu Kleinbuchstaben\n",
        "    transform(userAnswers.begin(), userAnswers.end(), userAnswers.begin(), ::tolower);\n",
        "\n",
        "    // Überprüfung der Antworten und Ausgabe entsprechender Meldung\n",
        "    bool isCorrect = all_of(correctAnswers.begin(), correctAnswers.end(), [&userAnswers](const string& ans) {\n",
        "        return userAnswers.find(ans) != string::npos;\n",
        "    });\n",
        "\n",
        "    cout << (isCorrect ? \"Richtig!\" : \"Falsch.\") << endl;\n",
        "\n",
        "    return 0;\n",
        "}"
      ]
    },
    {
      "cell_type": "markdown",
      "metadata": {
        "id": "HYPC4OxdREPE"
      },
      "source": [
        "**KI**\n",
        "\n",
        "Hier wurde ein vector<char> namens correctAnswers erstellt, um die richtigen Antworten zu speichern. Anschließend wird die all_of-Funktion aus der <algorithm>-Header-Datei verwendet, um zu überprüfen, ob alle richtigen Antworten in der Benutzereingabe enthalten sind."
      ]
    },
    {
      "cell_type": "markdown",
      "metadata": {
        "id": "ltzuC8s7juQk"
      },
      "source": [
        "## Mehrmalige Eingabe ermöglichen\n",
        "\n",
        "**ChatGPT Prompt:**\n",
        "\n",
        "*Danke. Füge bitte eine Schleife ein, sodass man bei einer faschen Eingabe nochmal eine Chance bekommt die Frage richtig zu beantworten. Man sollte aber nicht mehr wie zwei Versuche bekommen.* [2] [3] [4]"
      ]
    },
    {
      "cell_type": "code",
      "execution_count": null,
      "metadata": {
        "id": "WcoDSivujuQk"
      },
      "outputs": [],
      "source": [
        "%%cuda\n",
        "//Quelle [1]\n",
        "//%%cuda cell magic is required to use c++\n",
        "// Dieses Programm überprüft, ob die vom Benutzer eingegebenen Antworten Berlin und Hamburg sind,\n",
        "// um herauszufinden, ob sie Städte in Deutschland identifiziert haben.\n",
        "\n",
        "#include <iostream>\n",
        "#include <string>\n",
        "#include <vector>\n",
        "#include <algorithm>  // für die transform-Funktion\n",
        "\n",
        "using namespace std;\n",
        "\n",
        "int main() {\n",
        "    // Vektor für die richtigen Antworten\n",
        "    vector<string> correctAnswers{\"Berlin\", \"Hamburg\"};\n",
        "\n",
        "    // Benutzereingabe für die Antworten\n",
        "    string userAnswers;\n",
        "\n",
        "    // Anzahl der Versuche\n",
        "    const int maxAttempts = 2;\n",
        "    int attempts = 0;\n",
        "\n",
        "    while (attempts < maxAttempts) {\n",
        "        // Ausgabe der Frage nach Städten in Deutschland\n",
        "        cout << \"Welche dieser Städte liegen in Deutschland?\" << endl\n",
        "             << \"a) Paris\\nb) Berlin\\nc) Rom\\nd) Hamburg\" << endl\n",
        "             << \"Ihre Antworten (z.B. Berlin Hamburg): \";\n",
        "        getline(cin, userAnswers);  // Verwende getline, um Leerzeichen im Input zu unterstützen\n",
        "\n",
        "        // Konvertierung der Benutzereingabe zu Kleinbuchstaben\n",
        "        transform(userAnswers.begin(), userAnswers.end(), userAnswers.begin(), ::tolower);\n",
        "\n",
        "        // Überprüfung der Antworten und Ausgabe entsprechender Meldung\n",
        "        bool isCorrect = all_of(correctAnswers.begin(), correctAnswers.end(), [&userAnswers](const string& ans) {\n",
        "            return userAnswers.find(ans) != string::npos;\n",
        "        });\n",
        "\n",
        "        if (isCorrect) {\n",
        "            cout << \"Richtig!\" << endl;\n",
        "            break;  // Beende die Schleife, wenn die Antwort richtig ist\n",
        "        } else {\n",
        "            cout << \"Falsch. Versuch \" << attempts + 1 << \" von \" << maxAttempts << endl;\n",
        "            attempts++;\n",
        "        }\n",
        "    }\n",
        "\n",
        "    if (attempts == maxAttempts) {\n",
        "        cout << \"Leider keine weiteren Versuche. Die richtigen Antworten waren: Berlin, Hamburg\" << endl;\n",
        "    }\n",
        "\n",
        "    return 0;\n",
        "}"
      ]
    },
    {
      "cell_type": "markdown",
      "metadata": {},
      "source": [
        "## Auslagerung des Programms in eine separate Funktion\n",
        "-> Verbesserung der Wiederverwendbarkeit und Verständlichkeit\n",
        "\n",
        "**ChatGPT Prompt:**\n",
        "\n",
        "*Behalte den Code so bei wie er bereits ist, aber verlagere einen sinnvollen Teil davon in eine separate Funktion aus mit den Übergabeparametern: Frage, 4 Antworten und 2 Loesungen.* [2] [3] [4]"
      ]
    },
    {
      "cell_type": "code",
      "execution_count": null,
      "metadata": {},
      "outputs": [],
      "source": [
        "%%cuda\n",
        "//Quelle [1]\n",
        "//%%cuda cell magic is required to use c++\n",
        "// Dieses Programm überprüft, ob die vom Benutzer eingegebenen Antworten Berlin und Hamburg sind,\n",
        "// um herauszufinden, ob sie Städte in Deutschland identifiziert haben.\n",
        "\n",
        "#include <iostream>\n",
        "#include <string>\n",
        "#include <vector>\n",
        "#include <algorithm>  // für die transform-Funktion\n",
        "\n",
        "using namespace std;\n",
        "\n",
        "bool quiz(const string& question, const vector<string>& answers, const vector<string>& correctAnswers) {\n",
        "    // Benutzereingabe für die Antworten\n",
        "    string userAnswers;\n",
        "\n",
        "    // Anzahl der Versuche\n",
        "    const int maxAttempts = 2;\n",
        "    int attempts = 0;\n",
        "\n",
        "    while (attempts < maxAttempts) {\n",
        "        // Ausgabe der Frage und der möglichen Antworten\n",
        "        cout << question << endl;\n",
        "        for (int i = 0; i < answers.size(); i++) {\n",
        "            cout << char('a' + i) << \") \" << answers[i] << endl;\n",
        "        }\n",
        "        cout << \"Ihre Antworten (z.B. \" << correctAnswers[0] << \" \" << correctAnswers[1] << \"): \";\n",
        "        getline(cin, userAnswers);  // Verwende getline, um Leerzeichen im Input zu unterstützen\n",
        "\n",
        "        // Konvertierung der Benutzereingabe zu Kleinbuchstaben\n",
        "        transform(userAnswers.begin(), userAnswers.end(), userAnswers.begin(), ::tolower);\n",
        "\n",
        "        // Überprüfung der Antworten und Ausgabe entsprechender Meldung\n",
        "        bool isCorrect = all_of(correctAnswers.begin(), correctAnswers.end(), [&userAnswers](const string& ans) {\n",
        "            return userAnswers.find(ans) != string::npos;\n",
        "        });\n",
        "\n",
        "        if (isCorrect) {\n",
        "            cout << \"Richtig!\" << endl;\n",
        "            return true;  // Beende die Funktion, wenn die Antwort richtig ist\n",
        "        } else {\n",
        "            cout << \"Falsch. Versuch \" << attempts + 1 << \" von \" << maxAttempts << endl;\n",
        "            attempts++;\n",
        "        }\n",
        "    }\n",
        "\n",
        "    cout << \"Leider keine weiteren Versuche. Die richtigen Antworten waren: \" << correctAnswers[0] << \", \" << correctAnswers[1] << endl;\n",
        "    return false;\n",
        "}\n",
        "\n",
        "int main() {\n",
        "    // Frage\n",
        "    string question = \"Welche dieser Städte liegen in Deutschland?\";\n",
        "\n",
        "    // Vektor für die richtigen Antworten\n",
        "    vector<string> correctAnswers{\"berlin\", \"hamburg\"};\n",
        "\n",
        "    // Vektor für die möglichen Antworten\n",
        "    vector<string> answers{\"Paris\", \"Berlin\", \"Rom\", \"Hamburg\"};\n",
        "\n",
        "    // Starte das Quiz\n",
        "    quiz(question, answers, correctAnswers);\n",
        "\n",
        "    return 0;\n",
        "}"
      ]
    },
    {
      "cell_type": "markdown",
      "metadata": {},
      "source": [
        "## Strukturierte Vorgabe von Strings\n",
        "-> Verbesserung der Anpassbarkeit\n",
        "\n",
        "**ChatGPT Prompt:**\n",
        "\n",
        "*Behalte den Code so bei wie er bereits ist, aber verlagere einen sinnvollen Teil davon in eine separate Funktion aus mit den Übergabeparametern: Frage, 4 Antworten und 2 Loesungen.* [2] [3] [4]"
      ]
    },
    {
      "cell_type": "code",
      "execution_count": null,
      "metadata": {},
      "outputs": [],
      "source": [
        "%%cuda\n",
        "//Quelle [1]\n",
        "//%%cuda cell magic is required to use c++\n",
        "// Dieses Programm überprüft, ob die vom Benutzer eingegebenen Antworten Berlin und Hamburg sind,\n",
        "// um herauszufinden, ob sie Städte in Deutschland identifiziert haben.\n",
        "\n",
        "#include <iostream>\n",
        "#include <string>\n",
        "#include <vector>\n",
        "#include <algorithm>  // für die transform-Funktion\n",
        "\n",
        "using namespace std;\n",
        "\n",
        "struct Question {\n",
        "    string question;\n",
        "    vector<string> answers;\n",
        "    vector<string> correctAnswers;\n",
        "};\n",
        "\n",
        "bool quiz(const Question& q) {\n",
        "    // Benutzereingabe für die Antworten\n",
        "    string userAnswers;\n",
        "\n",
        "    // Anzahl der Versuche\n",
        "    const int maxAttempts = 2;\n",
        "    int attempts = 0;\n",
        "\n",
        "    while (attempts < maxAttempts) {\n",
        "        // Ausgabe der Frage und der möglichen Antworten\n",
        "        cout << q.question << endl;\n",
        "        for (int i = 0; i < q.answers.size(); i++) {\n",
        "            cout << char('a' + i) << \") \" << q.answers[i] << endl;\n",
        "        }\n",
        "        cout << \"Ihre Antworten (z.B. \" << q.correctAnswers[0] << \" \" << q.correctAnswers[1] << \"): \";\n",
        "        getline(cin, userAnswers);  // Verwende getline, um Leerzeichen im Input zu unterstützen\n",
        "\n",
        "        // Konvertierung der Benutzereingabe zu Kleinbuchstaben\n",
        "        transform(userAnswers.begin(), userAnswers.end(), userAnswers.begin(), ::tolower);\n",
        "\n",
        "        // Überprüfung der Antworten und Ausgabe entsprechender Meldung\n",
        "        bool isCorrect = all_of(q.correctAnswers.begin(), q.correctAnswers.end(), [&userAnswers](const string& ans) {\n",
        "            return userAnswers.find(ans) != string::npos;\n",
        "        });\n",
        "\n",
        "        if (isCorrect) {\n",
        "            cout << \"Richtig!\" << endl;\n",
        "            return true;  // Beende die Funktion, wenn die Antwort richtig ist\n",
        "        } else {\n",
        "            cout << \"Falsch. Versuch \" << attempts + 1 << \" von \" << maxAttempts << endl;\n",
        "            attempts++;\n",
        "        }\n",
        "    }\n",
        "\n",
        "    cout << \"Leider keine weiteren Versuche. Die richtigen Antworten waren: \" << q.correctAnswers[0] << \", \" << q.correctAnswers[1] << endl;\n",
        "    return false;\n",
        "}\n",
        "\n",
        "int main() {\n",
        "    // Erstelle eine Frage\n",
        "    Question q;\n",
        "    q.question = \"Welche dieser Städte liegen in Deutschland?\";\n",
        "    q.answers = {\"Paris\", \"Berlin\", \"Rom\", \"Hamburg\"};\n",
        "    q.correctAnswers = {\"berlin\", \"hamburg\"};\n",
        "\n",
        "    // Starte das Quiz\n",
        "    quiz(q);\n",
        "\n",
        "    return 0;\n",
        "}"
      ]
    },
    {
      "cell_type": "markdown",
      "metadata": {
        "id": "jpFC_4eFjuQl"
      },
      "source": [
        "# Diskussion der Ergebnisse\n",
        "\n",
        "Wir konnten durch die obigen Maßnahmen den Code in seiner Struktur und Funktionalität mit wenigen einfachen Schritten in recht kurzer Zeit um einiges verbessern, indem wir KI dafür genutzt haben.\n",
        "\n",
        "Schlussfolgerung: Wie wir gesehen haben, kann KI ein leistungsfähiges Werkzeug zur Refaktorisierung von Code sein. Sie kann uns helfen, die Effizienz und Lesbarkeit unseres Codes zu verbessern, was die Wartung und Fehlersuche erleichtert.\n",
        "\n",
        "Nach dem Prozess ist jedoch noch zu beachten, dass stets der generierte Code getestet wird, ob dieser noch wie gewünscht funktioniert!"
      ]
    },
    {
      "cell_type": "markdown",
      "metadata": {
        "id": "eau9hl4xJHnw"
      },
      "source": [
        "Literaturverzeichnis:\n",
        "[1] Open AI - Large Language Model ChatGPT Webanwendung\n",
        "https://chat.openai.com/ - Online, eingesehen am 21.02.2023\n",
        "\n",
        "[2] Stock, Christopher - 10 einfache und effektive Refactoring-Maßnahmen\n",
        "https://blog.mayflower.de/10470-refactoring-10-tipps.html - Online, eingesehen am 21.02.2023\n",
        "\n",
        "[3] Gewirtz - How to write better ChatGPT prompts in 5 steps\n",
        "https://www.zdnet.com/article/how-to-write-better-chatgpt-prompts/ - Online, eingesehen am 21.02.2023\n",
        "\n",
        "[4] Google LLC - Google C++ Style Guide\n",
        "https://google.github.io/styleguide/cppguide.html - Online, eingesehen am 21.02.2023"
      ]
    }
  ],
  "metadata": {
    "colab": {
      "provenance": [],
      "toc_visible": true
    },
    "kernelspec": {
      "display_name": "Python 3",
      "name": "python3"
    },
    "language_info": {
      "name": "python"
    }
  },
  "nbformat": 4,
  "nbformat_minor": 0
}
