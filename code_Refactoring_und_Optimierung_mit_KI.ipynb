{
  "cells": [
    {
      "cell_type": "markdown",
      "source": [
        "[![Open In Colab](https://colab.research.google.com/assets/colab-badge.svg)](https://colab.research.google.com/github/jwalldorf96/Softwareprojekt/blob/main/code_Refactoring_und_Optimierung_mit_KI.ipynb)"
      ],
      "metadata": {
        "id": "NNzhQM6z-O41"
      }
    },
    {
      "cell_type": "markdown",
      "metadata": {
        "id": "mk5tQDnKjuQP"
      },
      "source": [
        "\n",
        "# Einleitung Code Refactoring und Optimierung mit KI\n",
        "In diesem Notebook werden wir uns anschauen, wie Künstliche Intelligenz zu Refactoring und Optimierung von Code verwendet werden kann. Dazu zunächst ein paar einleitende Worte:\n",
        "\n",
        "**Was ist KI?:** Künstliche Intelligenz konzentriert sich auf die Generierung von neuem Wissen aus bestehenden Daten. Im Kontext der Programmierung kann sie zur Verbesserung von Code verwendet werden.\n",
        "\n",
        "**Was ist Refactoring?:** Refactoring ist der Prozess der Umstrukturierung von bestehendem Computercode, ohne dessen externes Verhalten zu ändern. Ziel ist es, die nichtfunktionalen Attribute der Software zu verbessern.\n",
        "\n",
        "**Wie kann KI beim Refactoring verwendet werden?:** KI kann beim Refactoring verwendet werden, indem der bestehende Code analysiert, dessen Funktionalität verstanden und Verbesserungen vorgeschlagen werden. Dies kann die Vereinfachung komplexen Codes, das Entfernen von Redundanzen und die Verbesserung der Code-Struktur umfassen.\n",
        "\n",
        "**Ziel:** Prompt Beispiele zur praktischen Anwendung des Refacotrings mit einer KI sowie Beispiele, um weitere Funktionen hinzuzufügen.\n",
        "\n",
        "Der Vorgang des Refactoring und Optimierung mit Unterstützung von KI soll nun am Beispiel der Praktikumsaufgabe P1a - \"Multiple Choice Test\" in C++ exemplarisch erläutert werden. Zur Generierung wurde als KI ChatGPT in der Version 3.5 verwendet. (Hinweis: Eingaben in Colab sind im Beispiel nicht vorgesehen, daher sind die Antworten vorgegeben)"
      ]
    },
    {
      "cell_type": "markdown",
      "source": [
        "# 5. Tipps beim Umgang mit KI Modellen wie ChatGPT\n",
        "\n",
        "1. Anweisungen sollten prägnant und eindeutig sein, dies führt zu besseren Ergebnissen\n",
        "2. Anweisungen mit Codebeispielen unterstützen\n",
        "3. Anweisungen in mehrere kleine Schritte aufteilen\n",
        "4. Anweisungen sollten höflich und interaktiv sein, da ChatGPT mit solchen Daten trainiert wurde und deshalb dann bessere Ergebnisse liefert\n",
        "5. Feedback an die KI verbessert deine zukünftigen Vorschläge\n",
        "\n",
        "\n",
        "**!Wichtig! Die Antworten der KI müssen immer kritisch betrachtet werden, da keine vollständige Genauigkeit gegeben ist.**\n",
        "\n",
        "\n",
        "\n"
      ],
      "metadata": {
        "id": "_RzeId6nrgbh"
      }
    },
    {
      "cell_type": "markdown",
      "source": [
        "# Vorbereitung - Einrichtung der Umgebung für C++\n",
        "Damit wird den Beispielcode in C++ direkt im Jupyter Notebook compilieren und testen können, muss als erstes eine Extension installiert werden.\n",
        "Zu Beginn muss daher der folgende Block einmalig ausgeführt werden:"
      ],
      "metadata": {
        "id": "YPriPNk9Jw-4"
      }
    },
    {
      "cell_type": "code",
      "execution_count": 2,
      "metadata": {
        "colab": {
          "base_uri": "https://localhost:8080/"
        },
        "id": "KiGSH1vGjuQY",
        "outputId": "e404a242-0c09-4db3-f15b-005be544dbd8"
      },
      "outputs": [
        {
          "output_type": "stream",
          "name": "stdout",
          "text": [
            "*** 1.)  Test if NVIDIA(R)-cuda-compiler-driver is availabe...\n",
            "nvcc: NVIDIA (R) Cuda compiler driver\n",
            "Copyright (c) 2005-2022 NVIDIA Corporation\n",
            "Built on Wed_Sep_21_10:33:58_PDT_2022\n",
            "Cuda compilation tools, release 11.8, V11.8.89\n",
            "Build cuda_11.8.r11.8/compiler.31833905_0\n",
            "*** 2.) Install extension to run nvcc ...\n",
            "Collecting git+https://github.com/andreinechaev/nvcc4jupyter.git\n",
            "  Cloning https://github.com/andreinechaev/nvcc4jupyter.git to /tmp/pip-req-build-a3msbzxl\n",
            "  Running command git clone --filter=blob:none --quiet https://github.com/andreinechaev/nvcc4jupyter.git /tmp/pip-req-build-a3msbzxl\n",
            "  Resolved https://github.com/andreinechaev/nvcc4jupyter.git to commit 0a71d56e5dce3ff1f0dd2c47c29367629262f527\n",
            "  Preparing metadata (setup.py) ... \u001b[?25l\u001b[?25hdone\n",
            "Building wheels for collected packages: NVCCPlugin\n",
            "  Building wheel for NVCCPlugin (setup.py) ... \u001b[?25l\u001b[?25hdone\n",
            "  Created wheel for NVCCPlugin: filename=NVCCPlugin-0.0.2-py3-none-any.whl size=4294 sha256=b109c2b46e74b08cedd7524c1ebba76849a10750726a9deb719e78442fd65b3f\n",
            "  Stored in directory: /tmp/pip-ephem-wheel-cache-zju3dn0g/wheels/a8/b9/18/23f8ef71ceb0f63297dd1903aedd067e6243a68ea756d6feea\n",
            "Successfully built NVCCPlugin\n",
            "Installing collected packages: NVCCPlugin\n",
            "Successfully installed NVCCPlugin-0.0.2\n",
            "*** 3.) Load extension using a 'line magic %' command....\n",
            "created output directory at /content/src\n",
            "Out bin /content/result.out\n"
          ]
        }
      ],
      "source": [
        "!echo \"*** 1.)  Test if NVIDIA(R)-cuda-compiler-driver is availabe...\"\n",
        "!nvcc --version\n",
        "!echo \"*** 2.) Install extension to run nvcc ...\"\n",
        "!pip install git+https://github.com/andreinechaev/nvcc4jupyter.git\n",
        "!echo \"*** 3.) Load extension using a 'line magic %' command....\"\n",
        "%load_ext nvcc_plugin"
      ]
    },
    {
      "cell_type": "markdown",
      "source": [
        "# Ausgangslage: Basic Multiple Choice Test\n",
        "**Aufgabenstellung**\n",
        "\n",
        "Ein Multiple Choice Test zu einem beliebigen Thema mit folgenden Anforderungen:\n",
        "\n",
        "\n",
        "1. Eine echte Multiple Choice Frage, dass heißt mit mehreren richtigen Antworten.\n",
        "2. Die Antwort muss in einen C++ String eingelesen werden.\n",
        "3. Die Memberfunktion find von String muss genutzt werden sowie string::npos.\n",
        "4. Die gesamte Logik soll in eine Funktion ausgelagert werden, sodass in der main Funktion nur der Funktionsaufruf steht."
      ],
      "metadata": {
        "id": "_O99leyvJ46O"
      }
    },
    {
      "cell_type": "code",
      "source": [
        "%%cu\n",
        "//%%cu cell magic is required to use c++\n",
        "#include <iostream>\n",
        "#include <string>\n",
        "\n",
        "using namespace std;\n",
        "\n",
        "int main() {\n",
        "    string a=\"bd\";\n",
        "    string b=\"bd\";\n",
        "\n",
        "    cout << \"Welche dieser Städte liegen in Deutschland?\" << endl;\n",
        "    cout << \"a) Paris\" << endl;\n",
        "    cout << \"b) Berlin\" << endl;\n",
        "    cout << \"c) Rom\" << endl;\n",
        "    cout << \"d) Hamburg\" << endl;\n",
        "    cout << \"Ihre Antworten (z.B. ab): \";\n",
        "    cin >> a;\n",
        "\n",
        "    if (a.find('b') != string::npos &&  // Berlin\n",
        "        a.find('d') != string::npos) {   // Hamburg\n",
        "        cout << \"Richtig!\" << endl;\n",
        "    } else {\n",
        "        cout << \"Falsch.\" << endl;\n",
        "    }\n",
        "\n",
        "    return 0;\n",
        "}"
      ],
      "metadata": {
        "colab": {
          "base_uri": "https://localhost:8080/"
        },
        "id": "ZoDtoxWzKJxN",
        "outputId": "c6314711-6af7-477a-e208-dc0ba54ae979"
      },
      "execution_count": null,
      "outputs": [
        {
          "output_type": "stream",
          "name": "stdout",
          "text": [
            "Welche dieser Städte liegen in Deutschland?\n",
            "a) Paris\n",
            "b) Berlin\n",
            "c) Rom\n",
            "d) Hamburg\n",
            "Ihre Antworten (z.B. ab): Richtig!\n",
            "\n"
          ]
        }
      ]
    },
    {
      "cell_type": "markdown",
      "source": [
        "# Refactoring\n",
        "\n",
        "**ChatGPT Prompt:**\n",
        "\n",
        "\n",
        "*Hi, ich will gerne gleich folgenden Code mit Refactoring verbessern. Bitte hilf mir dabei und gehe dabei in kleinen Schritten vor. Was ich genau anpassen will folgt im nächsten Abschnitt.*\n",
        "\n",
        "\n",
        "->Code in Chat kopieren"
      ],
      "metadata": {
        "id": "fM6cg0CASEii"
      }
    },
    {
      "cell_type": "markdown",
      "metadata": {
        "id": "ZaxIF8ddjuQa"
      },
      "source": [
        "## Variablen mit sprechenden Namen\n",
        "\n",
        "**ChatGPT Prompt:**\n",
        "\n",
        "*Bitte vergib im ersten Schritt sprechende Variablennamen.*"
      ]
    },
    {
      "cell_type": "code",
      "execution_count": null,
      "metadata": {
        "id": "GvYCxCOxjuQb"
      },
      "outputs": [],
      "source": [
        "%%cu\n",
        "//%%cu cell magic is required to use c++\n",
        "#include <iostream>\n",
        "#include <string>\n",
        "\n",
        "using namespace std;\n",
        "\n",
        "int main() {\n",
        "    string userAnswers = \"bd\";\n",
        "    string correctAnswers = \"bd\";\n",
        "\n",
        "    cout << \"Welche dieser Städte liegen in Deutschland?\" << endl;\n",
        "    cout << \"a) Paris\" << endl;\n",
        "    cout << \"b) Berlin\" << endl;\n",
        "    cout << \"c) Rom\" << endl;\n",
        "    cout << \"d) Hamburg\" << endl;\n",
        "    cout << \"Ihre Antworten (z.B. ab): \";\n",
        "    cin >> userAnswers;\n",
        "\n",
        "    if (userAnswers.find('b') != string::npos &&\n",
        "        userAnswers.find('d') != string::npos) {\n",
        "        cout << \"Richtig!\" << endl;\n",
        "    } else {\n",
        "        cout << \"Falsch.\" << endl;\n",
        "    }\n",
        "\n",
        "    return 0;\n",
        "}"
      ]
    },
    {
      "cell_type": "markdown",
      "source": [
        "**KI:**\n",
        "\n",
        "Hier habe ich die Variable a in userAnswers und b in correctAnswers umbenannt, um den Zweck der Variablen klarer zu machen."
      ],
      "metadata": {
        "id": "5B_N1881NYqM"
      }
    },
    {
      "cell_type": "markdown",
      "metadata": {
        "id": "ur2l9HQBjuQb"
      },
      "source": [
        "## ungenutzte Variablen löschen\n",
        "\n",
        "**ChatGPT Prompt:**\n",
        "\n",
        "*Bitte prüfe, ob im Code ungenutzte Variablen vorhanden sind und lösche diese.*\n"
      ]
    },
    {
      "cell_type": "code",
      "execution_count": null,
      "metadata": {
        "id": "pGSKgYpYjuQc"
      },
      "outputs": [],
      "source": [
        "%%cu\n",
        "//%%cu cell magic is required to use c++\n",
        "#include <iostream>\n",
        "#include <string>\n",
        "\n",
        "using namespace std;\n",
        "\n",
        "int main() {\n",
        "    string userAnswers = \"bd\";\n",
        "\n",
        "    cout << \"Welche dieser Städte liegen in Deutschland?\" << endl;\n",
        "    cout << \"a) Paris\" << endl;\n",
        "    cout << \"b) Berlin\" << endl;\n",
        "    cout << \"c) Rom\" << endl;\n",
        "    cout << \"d) Hamburg\" << endl;\n",
        "    cout << \"Ihre Antworten (z.B. ab): \";\n",
        "    cin >> userAnswers;\n",
        "\n",
        "    if (userAnswers.find('b') != string::npos &&\n",
        "        userAnswers.find('d') != string::npos) {\n",
        "        cout << \"Richtig!\" << endl;\n",
        "    } else {\n",
        "        cout << \"Falsch.\" << endl;\n",
        "    }\n",
        "\n",
        "    return 0;\n",
        "}"
      ]
    },
    {
      "cell_type": "markdown",
      "source": [
        "**KI**\n",
        "\n",
        "Es sieht so aus, als ob die Variable correctAnswers im aktuellen Zustand des Codes nicht verwendet wird. Daher können wir sie entfernen."
      ],
      "metadata": {
        "id": "VUhLWRKzOJPQ"
      }
    },
    {
      "cell_type": "markdown",
      "metadata": {
        "id": "x3GlE-rSjuQd"
      },
      "source": [
        "## Code komprimieren\n",
        "\n",
        "**ChatGPT Prompt:**\n",
        "\n",
        "*Das sieht gut aus, Danke! Im nächsten Schritt soll der Programmcode bitte etwas kompakter aufgeschrieben werden.*\n"
      ]
    },
    {
      "cell_type": "code",
      "execution_count": null,
      "metadata": {
        "id": "zAcgRwWdjuQe"
      },
      "outputs": [],
      "source": [
        "%%cu\n",
        "//%%cu cell magic is required to use c++\n",
        "#include <iostream>\n",
        "#include <string>\n",
        "\n",
        "using namespace std;\n",
        "\n",
        "int main() {\n",
        "    string userAnswers = \"bd\";\n",
        "\n",
        "    cout << \"Welche dieser Städte liegen in Deutschland?\" << endl\n",
        "         << \"a) Paris\\nb) Berlin\\nc) Rom\\nd) Hamburg\" << endl\n",
        "         << \"Ihre Antworten (z.B. ab): \";\n",
        "    cin >> userAnswers;\n",
        "\n",
        "    cout << (userAnswers.find('b') != string::npos && userAnswers.find('d') != string::npos ? \"Richtig!\" : \"Falsch.\") << endl;\n",
        "\n",
        "    return 0;\n",
        "}"
      ]
    },
    {
      "cell_type": "markdown",
      "metadata": {
        "id": "zP6TvIU1juQi"
      },
      "source": [
        "## Code kommentieren\n",
        "\n",
        "**ChatGPT Prompt:**\n",
        "\n",
        "*Füge anschließend bitte noch Kommentare ein, die den Programmcode erklären, sodass man ihn besser verstehen kann. Außerdem füge in der ersten Zeile des Files eine kleine Zusammenfassung ein, was das Programm allgemein macht.*"
      ]
    },
    {
      "cell_type": "code",
      "source": [
        "%%cu\n",
        "//%%cu cell magic is required to use c++\n",
        "// Dieses Programm überprüft, ob die vom Benutzer eingegebenen Antworten Berlin und Hamburg sind,\n",
        "// um herauszufinden, ob sie Städte in Deutschland identifiziert haben.\n",
        "\n",
        "#include <iostream>\n",
        "#include <string>\n",
        "\n",
        "using namespace std;\n",
        "\n",
        "int main() {\n",
        "    // Benutzereingabe für die Antworten\n",
        "    string userAnswers = \"BD\";\n",
        "\n",
        "    // Ausgabe der Frage nach Städten in Deutschland\n",
        "    cout << \"Welche dieser Städte liegen in Deutschland?\" << endl\n",
        "         << \"a) Paris\\nb) Berlin\\nc) Rom\\nd) Hamburg\" << endl\n",
        "         << \"Ihre Antworten (z.B. ab): \";\n",
        "    cin >> userAnswers;\n",
        "\n",
        "    // Überprüfung der Antworten und Ausgabe entsprechender Meldung\n",
        "    cout << (userAnswers.find('b') != string::npos && userAnswers.find('d') != string::npos ? \"Richtig!\" : \"Falsch.\") << endl;\n",
        "\n",
        "    return 0;\n",
        "}"
      ],
      "metadata": {
        "id": "fg-WKGS8V1_u",
        "outputId": "f589d334-3fd1-4f73-9860-08086ff73312",
        "colab": {
          "base_uri": "https://localhost:8080/"
        }
      },
      "execution_count": 7,
      "outputs": [
        {
          "output_type": "stream",
          "name": "stdout",
          "text": [
            "Welche dieser Städte liegen in Deutschland?\n",
            "a) Paris\n",
            "b) Berlin\n",
            "c) Rom\n",
            "d) Hamburg\n",
            "Ihre Antworten (z.B. ab): Falsch.\n",
            "\n"
          ]
        }
      ]
    },
    {
      "cell_type": "markdown",
      "source": [
        "# Code optimieren/verbessern\n",
        "Im folgenden Abschnitt sollen noch ein paar Anregungen gegeben werden, wie man den oben angegebenen Code verbessern könnte, indem man gezielt die KI Anpassungen vornehmen lässt."
      ],
      "metadata": {
        "id": "b9kENA8gAg4I"
      }
    },
    {
      "cell_type": "markdown",
      "source": [
        "## Groß-/Kleinschreibung von Antworten akzeptieren\n",
        "\n",
        "**ChatGPT Prompt:**\n",
        "\n",
        "*Ich kann als Antwort nur Kleinbuchstaben eingeben, bitte ändere dies, sodass auch Großbuchstaben akzeptiert werden*"
      ],
      "metadata": {
        "id": "ul-I2UMzPZQ_"
      }
    },
    {
      "cell_type": "code",
      "source": [
        "%%cu\n",
        "//%%cu cell magic is required to use c++\n",
        "// Dieses Programm überprüft, ob die vom Benutzer eingegebenen Antworten Berlin und Hamburg sind,\n",
        "// um herauszufinden, ob sie Städte in Deutschland identifiziert haben.\n",
        "\n",
        "#include <iostream>\n",
        "#include <string>\n",
        "#include <algorithm>  // für die transform-Funktion\n",
        "\n",
        "using namespace std;\n",
        "\n",
        "int main() {\n",
        "    // Benutzereingabe für die Antworten\n",
        "    string userAnswers = \"BD\";\n",
        "\n",
        "    // Ausgabe der Frage nach Städten in Deutschland\n",
        "    cout << \"Welche dieser Städte liegen in Deutschland?\" << endl\n",
        "         << \"a) Paris\\nb) Berlin\\nc) Rom\\nd) Hamburg\" << endl\n",
        "         << \"Ihre Antworten (z.B. ab): \";\n",
        "    cin >> userAnswers;\n",
        "\n",
        "    // Konvertierung der Benutzereingabe zu Kleinbuchstaben\n",
        "    transform(userAnswers.begin(), userAnswers.end(), userAnswers.begin(), ::tolower);\n",
        "\n",
        "    // Überprüfung der Antworten und Ausgabe entsprechender Meldung\n",
        "    cout << (userAnswers.find('b') != string::npos && userAnswers.find('d') != string::npos ? \"Richtig!\" : \"Falsch.\") << endl;\n",
        "\n",
        "    return 0;\n",
        "}"
      ],
      "metadata": {
        "id": "LV6AW0SOP8U9",
        "outputId": "7e793192-5e54-4d66-e9a1-5103958276cf",
        "colab": {
          "base_uri": "https://localhost:8080/"
        }
      },
      "execution_count": 10,
      "outputs": [
        {
          "output_type": "stream",
          "name": "stdout",
          "text": [
            "Welche dieser Städte liegen in Deutschland?\n",
            "a) Paris\n",
            "b) Berlin\n",
            "c) Rom\n",
            "d) Hamburg\n",
            "Ihre Antworten (z.B. ab): Richtig!\n",
            "\n"
          ]
        }
      ]
    },
    {
      "cell_type": "markdown",
      "source": [
        "**KI**\n",
        "\n",
        "Ich habe die transform-Funktion verwendet, um die Benutzereingabe in Kleinbuchstaben umzuwandeln. Damit sollte das Programm jetzt sowohl Groß- als auch Kleinbuchstaben akzeptieren."
      ],
      "metadata": {
        "id": "8hlKvI4OP8sc"
      }
    },
    {
      "cell_type": "markdown",
      "source": [
        "## Datentyp für Antworten in vector<string> verändern\n",
        "\n",
        "**ChatGPT Prompt:**\n",
        "\n",
        "*Als nächstes nutze bitte den vector<string> Operator zur Speicherung und Abfrage der richtigen Antwort.*"
      ],
      "metadata": {
        "id": "bpVdZbuNVzTz"
      }
    },
    {
      "cell_type": "code",
      "execution_count": 12,
      "metadata": {
        "id": "bERZvUwYjuQj",
        "outputId": "d244ebe7-c401-4c6c-957f-75ac1bff9505",
        "colab": {
          "base_uri": "https://localhost:8080/"
        }
      },
      "outputs": [
        {
          "output_type": "stream",
          "name": "stdout",
          "text": [
            "Welche dieser Städte liegen in Deutschland?\n",
            "a) Paris\n",
            "b) Berlin\n",
            "c) Rom\n",
            "d) Hamburg\n",
            "Ihre Antworten (z.B. ab): Richtig!\n",
            "\n"
          ]
        }
      ],
      "source": [
        "%%cu\n",
        "//%%cu cell magic is required to use c++\n",
        "// Dieses Programm überprüft, ob die vom Benutzer eingegebenen Antworten Berlin und Hamburg sind,\n",
        "// um herauszufinden, ob sie Städte in Deutschland identifiziert haben.\n",
        "\n",
        "#include <iostream>\n",
        "#include <string>\n",
        "#include <vector>\n",
        "#include <algorithm>\n",
        "\n",
        "using namespace std;\n",
        "\n",
        "int main() {\n",
        "    // Benutzereingabe für die Antworten\n",
        "    string userAnswers = \"bD\";\n",
        "\n",
        "    // Richtige Antworten als Vektor speichern\n",
        "    vector<char> correctAnswers = {'b', 'd'};\n",
        "\n",
        "    // Ausgabe der Frage nach Städten in Deutschland\n",
        "    cout << \"Welche dieser Städte liegen in Deutschland?\" << endl\n",
        "         << \"a) Paris\\nb) Berlin\\nc) Rom\\nd) Hamburg\" << endl\n",
        "         << \"Ihre Antworten (z.B. ab): \";\n",
        "    cin >> userAnswers;\n",
        "\n",
        "    // Konvertierung der Benutzereingabe zu Kleinbuchstaben\n",
        "    transform(userAnswers.begin(), userAnswers.end(), userAnswers.begin(), ::tolower);\n",
        "\n",
        "    // Überprüfung der Antworten und Ausgabe entsprechender Meldung\n",
        "    bool isCorrect = all_of(correctAnswers.begin(), correctAnswers.end(), [&userAnswers](char c) {\n",
        "        return userAnswers.find(c) != string::npos;\n",
        "    });\n",
        "\n",
        "    cout << (isCorrect ? \"Richtig!\" : \"Falsch.\") << endl;\n",
        "\n",
        "    return 0;\n",
        "}"
      ]
    },
    {
      "cell_type": "markdown",
      "source": [
        "**KI**\n",
        "\n",
        "Hier wurde ein vector<char> namens correctAnswers erstellt, um die richtigen Antworten zu speichern. Anschließend wird die all_of-Funktion aus der <algorithm>-Header-Datei verwendet, um zu überprüfen, ob alle richtigen Antworten in der Benutzereingabe enthalten sind."
      ],
      "metadata": {
        "id": "HYPC4OxdREPE"
      }
    },
    {
      "cell_type": "markdown",
      "metadata": {
        "id": "ltzuC8s7juQk"
      },
      "source": [
        "## Mehrmalige Eingabe ermöglichen\n",
        "\n",
        "**ChatGPT Prompt:**\n",
        "\n",
        "*Danke. Füge bitte eine Schleife ein, sodass man bei einer faschen Eingabe nochmal eine Chance bekommt die Frage richtig zu beantworten. Man sollte aber nicht mehr wie zwei Versuche bekommen.*\n",
        "\n"
      ]
    },
    {
      "cell_type": "code",
      "execution_count": 13,
      "metadata": {
        "id": "WcoDSivujuQk",
        "outputId": "4054461c-ddf3-4b69-d5f5-c71c9fa4fd5e",
        "colab": {
          "base_uri": "https://localhost:8080/"
        }
      },
      "outputs": [
        {
          "output_type": "stream",
          "name": "stdout",
          "text": [
            "Welche dieser Städte liegen in Deutschland?\n",
            "a) Paris\n",
            "b) Berlin\n",
            "c) Rom\n",
            "d) Hamburg\n",
            "Ihre Antworten (z.B. ab): Falsch. Versuch 1 von 2.\n",
            "Welche dieser Städte liegen in Deutschland?\n",
            "a) Paris\n",
            "b) Berlin\n",
            "c) Rom\n",
            "d) Hamburg\n",
            "Ihre Antworten (z.B. ab): Falsch. Versuch 2 von 2.\n",
            "Leider falsch. Die richtigen Antworten sind b) Berlin und d) Hamburg.\n",
            "\n"
          ]
        }
      ],
      "source": [
        "%%cu\n",
        "//%%cu cell magic is required to use c++\n",
        "// Dieses Programm überprüft, ob die vom Benutzer eingegebenen Antworten Berlin und Hamburg sind,\n",
        "// um herauszufinden, ob sie Städte in Deutschland identifiziert haben.\n",
        "\n",
        "#include <iostream>\n",
        "#include <string>\n",
        "#include <vector>\n",
        "#include <algorithm>\n",
        "\n",
        "using namespace std;\n",
        "\n",
        "int main() {\n",
        "    // Richtige Antworten als Vektor speichern\n",
        "    vector<char> correctAnswers = {'b', 'd'};\n",
        "\n",
        "    for (int attempt = 1; attempt <= 2; ++attempt) {\n",
        "        // Benutzereingabe für die Antworten\n",
        "        string userAnswers;\n",
        "\n",
        "        // Ausgabe der Frage nach Städten in Deutschland\n",
        "        cout << \"Welche dieser Städte liegen in Deutschland?\" << endl\n",
        "             << \"a) Paris\\nb) Berlin\\nc) Rom\\nd) Hamburg\" << endl\n",
        "             << \"Ihre Antworten (z.B. ab): \";\n",
        "        cin >> userAnswers;\n",
        "\n",
        "        // Konvertierung der Benutzereingabe zu Kleinbuchstaben\n",
        "        transform(userAnswers.begin(), userAnswers.end(), userAnswers.begin(), ::tolower);\n",
        "\n",
        "        // Überprüfung der Antworten und Ausgabe entsprechender Meldung\n",
        "        bool isCorrect = all_of(correctAnswers.begin(), correctAnswers.end(), [&userAnswers](char c) {\n",
        "            return userAnswers.find(c) != string::npos;\n",
        "        });\n",
        "\n",
        "        if (isCorrect) {\n",
        "            cout << \"Richtig!\" << endl;\n",
        "            break; // Bei richtiger Antwort die Schleife verlassen\n",
        "        } else {\n",
        "            cout << \"Falsch. Versuch \" << attempt << \" von 2.\" << endl;\n",
        "            if (attempt == 2) {\n",
        "                cout << \"Leider falsch. Die richtigen Antworten sind b) Berlin und d) Hamburg.\" << endl;\n",
        "            }\n",
        "        }\n",
        "    }\n",
        "\n",
        "    return 0;\n",
        "}"
      ]
    },
    {
      "cell_type": "markdown",
      "metadata": {
        "id": "jpFC_4eFjuQl"
      },
      "source": [
        "# Diskussion der Ergebnisse\n",
        "\n",
        " Wir konnten durch die obigen Maßnahmen den Code in seiner Struktur und Funktionalität mit wenigen einfachen Schritten in recht kurzer Zeit um einiges verbessern, indem wir KI dafür genutzt haben.\n",
        "\n",
        "Schlussfolgerung: Wie wir gesehen haben, kann KI ein leistungsfähiges Werkzeug zur Refaktorisierung von Code sein. Sie kann uns helfen, die Effizienz und Lesbarkeit unseres Codes zu verbessern, was die Wartung und Fehlersuche erleichtert.\n",
        "\n",
        "Nach dem Prozess ist jedoch noch zu beachten, dass stets der generierte Code getestet wird, ob dieser noch wie gewünscht funktioniert!"
      ]
    },
    {
      "cell_type": "markdown",
      "source": [
        "#Quellenangaben\n",
        "https://chat.openai.com/\n",
        "\n",
        "https://blog.mayflower.de/10470-refactoring-10-tipps.html\n",
        "\n",
        "https://www.zdnet.com/article/how-to-write-better-chatgpt-prompts/"
      ],
      "metadata": {
        "id": "eau9hl4xJHnw"
      }
    }
  ],
  "metadata": {
    "language_info": {
      "name": "python"
    },
    "colab": {
      "provenance": [],
      "toc_visible": true
    },
    "kernelspec": {
      "name": "python3",
      "display_name": "Python 3"
    }
  },
  "nbformat": 4,
  "nbformat_minor": 0
}