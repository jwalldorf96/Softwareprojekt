{"cells":[{"cell_type":"markdown","metadata":{},"source":["Tipps und Tricks zur Nutzung mit Chat GPT"]}],"metadata":{"language_info":{"name":"python"}},"nbformat":4,"nbformat_minor":2}
