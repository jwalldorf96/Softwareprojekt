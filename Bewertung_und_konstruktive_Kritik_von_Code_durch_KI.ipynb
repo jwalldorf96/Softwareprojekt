{
 "cells": [
  {
   "cell_type": "markdown",
   "metadata": {},
   "source": [
    "[![Open In Colab](https://colab.research.google.com/assets/colab-badge.svg)](https://colab.research.google.com/github/jwalldorf96/Softwareprojekt/blob/main/Bewertung_und_konstruktive_Kritik_von_Code_durch_KI.ipynb)\n",
    "\n",
    "\n"
   ]
  },
  {
   "cell_type": "markdown",
   "metadata": {},
   "source": [
    "# Bewertung und konstruktive Kritik zu Code mittels KI\n",
    "Dieses Jupyter Notebook stellt eine Anleitung bereit um anhand von objektiven Kriterien seinen Programmcode durch KI zu bewerten und Verbesserungsvorschläge zur Codeoptimierung zu bekommen. \n",
    "\n",
    "Damit die KI eine einheitliche Wissensgrundlage für die Aufgabestellung verwendet werden zunächst einige Kriterien definiert.\n",
    "1. Allgemeine Kriterien für die Codequalität\n",
    "2. Vorgabe für Verbesserungsvorschläge \n",
    "3. Bewertungsskala\n",
    "\n",
    "\n",
    "Die Einzelheiten werden im Verlauf dieses Dokuments ausführlicher behandelt, sind aber auch direkt im folgenden ChatVerlauf hinterlegt: \n",
    "Link: https://chat.openai.com/share/de4b3e00-ef3d-47ff-8525-866cde09c946\n",
    "\n",
    "Vorgehensweise:\n",
    "1. ChatGPT öffnen und Chat aus obigen Link oder aus dem Anhang des Dokuments kopieren\n",
    "2. Aufgabenstellung in Chat kopieren (optional)\n",
    "2. Eigenen Code in Chat kopieren\n",
    "3. Feedback von der KI erhalten\n",
    "\n",
    "\n",
    "**!Da es sich um künstliche Intelligenz handelt sollte das Ergebnis immer nur als Hilfestellung und als Anhaltspunkt verstanden werden. Fehler sind nicht auszuschließen und daher sollte das Ergebnis auch immer kritisch hinterfragt werden!**\n"
   ]
  },
  {
   "cell_type": "markdown",
   "metadata": {},
   "source": [
    "# 1. Bewertungskriterien definieren\n",
    "1. Lesbarkeit: Die Klarheit und Verständlichkeit des Codes für andere Entwickler. Dies umfasst die Verwendung von aussagekräftigen Variablen- und Funktionsnamen, konsistente Einrückung und Formatierung sowie kommentierten Code, der die Funktionsweise erläutert.\n",
    "\n",
    "2. Korrektheit: Die Genauigkeit und Fehlerfreiheit des Codes in Bezug auf die Erfüllung der gestellten Anforderungen. Korrekter Code führt die gewünschten Aktionen aus und behandelt potenzielle Randfälle und Fehlerfälle angemessen.\n",
    "\n",
    "3. Modularität: Die Fähigkeit des Codes, in separate und wiederverwendbare Module oder Funktionen aufgeteilt zu werden. Modulare Strukturen erleichtern die Wartung, Erweiterung und Wiederverwendung des Codes.\n",
    "\n",
    "4. Dokumentation: Die Verfügbarkeit von ausreichender Dokumentation, die den Zweck, die Funktionsweise und die Verwendung des Codes erklärt. Eine gute Dokumentation erleichtert anderen Entwicklern das Verständnis und die Verwendung des Codes. Die Anwesenheit von Kommentaren im Code, die wichtige Konzepte, Entscheidungen und Funktionsweisen erklären. Eine klare Strukturierung des Codes erleichtert das Navigieren und Verstehen für andere Entwickler.\n",
    "\n",
    "5. Best Practices: Die Einhaltung bewährter Praktiken und Konventionen für die jeweilige Programmiersprache oder Plattform. Dies umfasst die Vermeidung von Anti-Patterns, die Nutzung von geeigneten Designmustern und die Einhaltung von Coding-Standards.\n",
    "\n",
    "6. Skalierbarkeit: Die Fähigkeit des Codes, mit zunehmender Datenmenge oder Benutzerzahl effektiv zu arbeiten, ohne dass es zu Leistungsproblemen kommt. Skalierbarer Code kann problemlos an steigende Anforderungen angepasst werden."
   ]
  },
  {
   "cell_type": "markdown",
   "metadata": {},
   "source": [
    "# 2. Verbesserungsvorschläge: \n",
    "- zu jedem Punkt sollen 1-2 Sätze mit Feedback durch die KI gegeben werden - positiv wie auch negativ"
   ]
  },
  {
   "cell_type": "markdown",
   "metadata": {},
   "source": [
    "# 3. Bewertungsskala: \n",
    "- Vergebe insgesamt maximal 10 Punkte"
   ]
  },
  {
   "cell_type": "markdown",
   "metadata": {},
   "source": [
    "# 4. ChatGPT Prompt: \n",
    "Hallo,\n",
    "\n",
    "ich möchte eine automatische Bewertung von Programmcode für Studierende erstellen. \n",
    "\n",
    "Bitte nutze dazu folgende Bewertungskriterien: \n",
    " Bewertungskriterien definieren\n",
    "1. Lesbarkeit: Die Klarheit und Verständlichkeit des Codes für andere Entwickler. Dies umfasst die Verwendung von aussagekräftigen Variablen- und Funktionsnamen, konsistente Einrückung und Formatierung sowie kommentierten Code, der die Funktionsweise erläutert.\n",
    "2. Korrektheit: Die Genauigkeit und Fehlerfreiheit des Codes in Bezug auf die Erfüllung der gestellten Anforderungen. Korrekter Code führt die gewünschten Aktionen aus und behandelt potenzielle Randfälle und Fehlerfälle angemessen.\n",
    "3. Modularität: Die Fähigkeit des Codes, in separate und wiederverwendbare Module oder Funktionen aufgeteilt zu werden. Modulare Strukturen erleichtern die Wartung, Erweiterung und Wiederverwendung des Codes.\n",
    "4. Dokumentation: Die Verfügbarkeit von ausreichender Dokumentation, die den Zweck, die Funktionsweise und die Verwendung des Codes erklärt. Eine gute Dokumentation erleichtert anderen Entwicklern das Verständnis und die Verwendung des Codes. Die Anwesenheit von Kommentaren im Code, die wichtige Konzepte, Entscheidungen und Funktionsweisen erklären. Eine klare Strukturierung des Codes erleichtert das Navigieren und Verstehen für andere Entwickler.\n",
    "5. Best Practices: Die Einhaltung bewährter Praktiken und Konventionen für die jeweilige Programmiersprache oder Plattform. Dies umfasst die Vermeidung von Anti-Patterns, die Nutzung von geeigneten Designmustern und die Einhaltung von Coding-Standards.\n",
    "6. Skalierbarkeit: Die Fähigkeit des Codes, mit zunehmender Datenmenge oder Benutzerzahl effektiv zu arbeiten, ohne dass es zu Leistungsproblemen kommt. Skalierbarer Code kann problemlos an steigende Anforderungen angepasst werden.\n",
    "\n",
    "Bitte gib dem Nutzer anschließend Feedback mit folgender Struktur:\n",
    "Verbesserungsvorschläge zu jedem von den 6 obigen Punkten, wobei 1-2 Sätze pro Punkt ausreichend sind. Das Feedback soll positiv wie auch negativ sein. \n",
    "\n",
    "Vergebe insgesamt maximal 10 Punkte\n",
    "\n",
    "Folgende Eingaben müssen noch gegeben werden:\n",
    "1. Aufabenstellung (optional)\n",
    "2. Programmcode\n",
    "\n",
    "Warte jetzt auf meine Eingabe, du brauchst nichts tun!"
   ]
  },
  {
   "cell_type": "markdown",
   "metadata": {},
   "source": [
    "# Literaturverzeichnis:\n",
    "[1] Open AI - Large Language Model ChatGPT Webanwendung\n",
    "https://chat.openai.com/ - Online, eingesehen am 16.03.2023"
   ]
  }
 ],
 "metadata": {
  "language_info": {
   "name": "python"
  }
 },
 "nbformat": 4,
 "nbformat_minor": 2
}
